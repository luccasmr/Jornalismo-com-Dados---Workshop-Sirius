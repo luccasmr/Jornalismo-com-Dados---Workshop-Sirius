{
 "cells": [
  {
   "cell_type": "markdown",
   "source": "### Jornalismo de Dados com Python!\n\nSabemos que Python é uma linguagem muito versatil. Isso democratizou o conhecimento e emponderou certas carreiras de forma a gerar coisas nunca antes pensadas.\n\nUma dessas carreiras foi o jornalista, sobretudo aqueles que acompanham politicas publicas, muitas vezes dependiam de estatisticos ou servidores públicos para trazer dados provenientes do governo.\n\nHoje, se um jornalista que saiba programar Python deseja fazer uma materia sobre desigualdade social, ele pode tratar sozinho dados do IBGE. Um jornalista de futebol pode acessar APIs de campeonatos para fazer descobertas antes escondidas.\n\nDurante esse ano de pandemia, um dos casos mais relevantes de democratização da informação através do jornalismo de dados foi a evolução da imunização da covid-19 pelo mundo!\n\nNo brasil, através do [Open DataSUS](https://opendatasus.saude.gov.br/) qualquer cidadão poderia acessar os dados através de APIs e desenvolver suas próprias analises.\n\nPara fecharmos esse Workshop, vamos brincar de jornalistas e investigar os dados que essa API nos oferece, e por fim apresenta-los graficamente.",
   "metadata": {
    "tags": [],
    "cell_id": "00001-236a0e7e-ac30-40d7-9633-e7da9af34bc8",
    "deepnote_cell_type": "markdown"
   }
  },
  {
   "cell_type": "markdown",
   "source": "Agora que já aprendemos sobre **o que é uma API**, aprendemos a **ler a documentação**  e tambem a **transformar o dado em DataFrame** agora vamos efetivamente botar a mão na massa quanto a esses dados!\n\nVamos entregar para uma base de dados, já em CSV. (`base_acre.csv`). Esta base contem todas as vacinações que ocorreram no estado do Acre.\n\nSua missão é carregar esses dados, transferir para pandas e fazer todos os tratamentos que você achar relevantes para aprensentar uma visualização de dados que nos ajude a entender **A evolução da imunização no Acre**.\n\nEntenda que essa pergunta é aberta, esperamos que você pesquise brevemente ou discuta quais são as quebras mais importantes, seria por **idade** ? talvez por **municpio**? como você visualizaria a vacinação do **povo indigena**?\n",
   "metadata": {
    "tags": [],
    "cell_id": "00001-c39cd789-365f-4499-9d5b-2bb1729c6b02",
    "deepnote_cell_type": "markdown"
   }
  },
  {
   "cell_type": "code",
   "metadata": {
    "tags": [],
    "cell_id": "00002-2b67055d-9383-4c4f-80c0-d8ab7178469c",
    "deepnote_to_be_reexecuted": false,
    "source_hash": "1f01016c",
    "execution_start": 1635685920028,
    "execution_millis": 10514,
    "deepnote_cell_type": "code"
   },
   "source": "import pandas as pd\n\n## essa linha pode demorar um pouco...\ndf = pd.read_csv(\"/work/Workshop/datasets/base_acre.csv\", sep=\";\")\ndf.head()",
   "outputs": [
    {
     "output_type": "execute_result",
     "execution_count": 1,
     "data": {
      "application/vnd.deepnote.dataframe.v2+json": {
       "row_count": 5,
       "column_count": 34,
       "columns": [
        {
         "name": "document_id",
         "dtype": "object",
         "stats": {
          "unique_count": 5,
          "nan_count": 0,
          "categories": [
           {
            "name": "0c6be3a6-36df-4973-a85d-7ff77c15148f-i0b0",
            "count": 1
           },
           {
            "name": "35361c96-c780-4033-bd60-210dec29167a-i0b0",
            "count": 1
           },
           {
            "name": "3 others",
            "count": 3
           }
          ]
         }
        },
        {
         "name": "paciente_id",
         "dtype": "object",
         "stats": {
          "unique_count": 5,
          "nan_count": 0,
          "categories": [
           {
            "name": "7c71545e1690795de7a5c2e03879640b182ac13d575d9e52e7fa19da5b642748",
            "count": 1
           },
           {
            "name": "b3d5628ff71e1ecb3804a37f7f03caae5a6ac6802162d1697d27241e8c7a8f01",
            "count": 1
           },
           {
            "name": "3 others",
            "count": 3
           }
          ]
         }
        },
        {
         "name": "paciente_idade",
         "dtype": "int64",
         "stats": {
          "unique_count": 5,
          "nan_count": 0,
          "min": "20",
          "max": "57",
          "histogram": [
           {
            "bin_start": 20,
            "bin_end": 23.7,
            "count": 2
           },
           {
            "bin_start": 23.7,
            "bin_end": 27.4,
            "count": 0
           },
           {
            "bin_start": 27.4,
            "bin_end": 31.1,
            "count": 0
           },
           {
            "bin_start": 31.1,
            "bin_end": 34.8,
            "count": 0
           },
           {
            "bin_start": 34.8,
            "bin_end": 38.5,
            "count": 1
           },
           {
            "bin_start": 38.5,
            "bin_end": 42.2,
            "count": 0
           },
           {
            "bin_start": 42.2,
            "bin_end": 45.900000000000006,
            "count": 0
           },
           {
            "bin_start": 45.900000000000006,
            "bin_end": 49.6,
            "count": 1
           },
           {
            "bin_start": 49.6,
            "bin_end": 53.300000000000004,
            "count": 0
           },
           {
            "bin_start": 53.300000000000004,
            "bin_end": 57,
            "count": 1
           }
          ]
         }
        },
        {
         "name": "paciente_datanascimento",
         "dtype": "object",
         "stats": {
          "unique_count": 5,
          "nan_count": 0,
          "categories": [
           {
            "name": "1974-07-25",
            "count": 1
           },
           {
            "name": "2000-12-03",
            "count": 1
           },
           {
            "name": "3 others",
            "count": 3
           }
          ]
         }
        },
        {
         "name": "paciente_enumsexobiologico",
         "dtype": "object",
         "stats": {
          "unique_count": 2,
          "nan_count": 0,
          "categories": [
           {
            "name": "M",
            "count": 3
           },
           {
            "name": "F",
            "count": 2
           }
          ]
         }
        },
        {
         "name": "paciente_racacor_codigo",
         "dtype": "int64",
         "stats": {
          "unique_count": 3,
          "nan_count": 0,
          "min": "3",
          "max": "5",
          "histogram": [
           {
            "bin_start": 3,
            "bin_end": 3.2,
            "count": 3
           },
           {
            "bin_start": 3.2,
            "bin_end": 3.4,
            "count": 0
           },
           {
            "bin_start": 3.4,
            "bin_end": 3.6,
            "count": 0
           },
           {
            "bin_start": 3.6,
            "bin_end": 3.8,
            "count": 0
           },
           {
            "bin_start": 3.8,
            "bin_end": 4,
            "count": 0
           },
           {
            "bin_start": 4,
            "bin_end": 4.2,
            "count": 1
           },
           {
            "bin_start": 4.2,
            "bin_end": 4.4,
            "count": 0
           },
           {
            "bin_start": 4.4,
            "bin_end": 4.6,
            "count": 0
           },
           {
            "bin_start": 4.6,
            "bin_end": 4.8,
            "count": 0
           },
           {
            "bin_start": 4.8,
            "bin_end": 5,
            "count": 1
           }
          ]
         }
        },
        {
         "name": "paciente_racacor_valor",
         "dtype": "object",
         "stats": {
          "unique_count": 3,
          "nan_count": 0,
          "categories": [
           {
            "name": "PARDA",
            "count": 3
           },
           {
            "name": "INDIGENA",
            "count": 1
           },
           {
            "name": "AMARELA",
            "count": 1
           }
          ]
         }
        },
        {
         "name": "paciente_endereco_coibgemunicipio",
         "dtype": "float64",
         "stats": {
          "unique_count": 4,
          "nan_count": 0,
          "min": "120020.0",
          "max": "120045.0",
          "histogram": [
           {
            "bin_start": 120020,
            "bin_end": 120022.5,
            "count": 1
           },
           {
            "bin_start": 120022.5,
            "bin_end": 120025,
            "count": 0
           },
           {
            "bin_start": 120025,
            "bin_end": 120027.5,
            "count": 0
           },
           {
            "bin_start": 120027.5,
            "bin_end": 120030,
            "count": 0
           },
           {
            "bin_start": 120030,
            "bin_end": 120032.5,
            "count": 0
           },
           {
            "bin_start": 120032.5,
            "bin_end": 120035,
            "count": 0
           },
           {
            "bin_start": 120035,
            "bin_end": 120037.5,
            "count": 1
           },
           {
            "bin_start": 120037.5,
            "bin_end": 120040,
            "count": 0
           },
           {
            "bin_start": 120040,
            "bin_end": 120042.5,
            "count": 2
           },
           {
            "bin_start": 120042.5,
            "bin_end": 120045,
            "count": 1
           }
          ]
         }
        },
        {
         "name": "paciente_endereco_copais",
         "dtype": "float64",
         "stats": {
          "unique_count": 1,
          "nan_count": 0,
          "min": "10.0",
          "max": "10.0",
          "histogram": [
           {
            "bin_start": 9.5,
            "bin_end": 9.6,
            "count": 0
           },
           {
            "bin_start": 9.6,
            "bin_end": 9.7,
            "count": 0
           },
           {
            "bin_start": 9.7,
            "bin_end": 9.8,
            "count": 0
           },
           {
            "bin_start": 9.8,
            "bin_end": 9.9,
            "count": 0
           },
           {
            "bin_start": 9.9,
            "bin_end": 10,
            "count": 0
           },
           {
            "bin_start": 10,
            "bin_end": 10.1,
            "count": 5
           },
           {
            "bin_start": 10.1,
            "bin_end": 10.2,
            "count": 0
           },
           {
            "bin_start": 10.2,
            "bin_end": 10.3,
            "count": 0
           },
           {
            "bin_start": 10.3,
            "bin_end": 10.4,
            "count": 0
           },
           {
            "bin_start": 10.4,
            "bin_end": 10.5,
            "count": 0
           }
          ]
         }
        },
        {
         "name": "paciente_endereco_nmmunicipio",
         "dtype": "object",
         "stats": {
          "unique_count": 4,
          "nan_count": 0,
          "categories": [
           {
            "name": "RIO BRANCO",
            "count": 2
           },
           {
            "name": "SENADOR GUIOMARD",
            "count": 1
           },
           {
            "name": "2 others",
            "count": 2
           }
          ]
         }
        },
        {
         "name": "paciente_endereco_nmpais",
         "dtype": "object",
         "stats": {
          "unique_count": 1,
          "nan_count": 0,
          "categories": [
           {
            "name": "BRASIL",
            "count": 5
           }
          ]
         }
        },
        {
         "name": "paciente_endereco_uf",
         "dtype": "object",
         "stats": {
          "unique_count": 1,
          "nan_count": 0,
          "categories": [
           {
            "name": "AC",
            "count": 5
           }
          ]
         }
        },
        {
         "name": "paciente_endereco_cep",
         "dtype": "float64",
         "stats": {
          "unique_count": 4,
          "nan_count": 0,
          "min": "69902.0",
          "max": "69980.0",
          "histogram": [
           {
            "bin_start": 69902,
            "bin_end": 69909.8,
            "count": 1
           },
           {
            "bin_start": 69909.8,
            "bin_end": 69917.6,
            "count": 0
           },
           {
            "bin_start": 69917.6,
            "bin_end": 69925.4,
            "count": 2
           },
           {
            "bin_start": 69925.4,
            "bin_end": 69933.2,
            "count": 0
           },
           {
            "bin_start": 69933.2,
            "bin_end": 69941,
            "count": 0
           },
           {
            "bin_start": 69941,
            "bin_end": 69948.8,
            "count": 0
           },
           {
            "bin_start": 69948.8,
            "bin_end": 69956.6,
            "count": 0
           },
           {
            "bin_start": 69956.6,
            "bin_end": 69964.4,
            "count": 0
           },
           {
            "bin_start": 69964.4,
            "bin_end": 69972.2,
            "count": 0
           },
           {
            "bin_start": 69972.2,
            "bin_end": 69980,
            "count": 2
           }
          ]
         }
        },
        {
         "name": "paciente_nacionalidade_enumnacionalidade",
         "dtype": "object",
         "stats": {
          "unique_count": 1,
          "nan_count": 0,
          "categories": [
           {
            "name": "B",
            "count": 5
           }
          ]
         }
        },
        {
         "name": "estabelecimento_valor",
         "dtype": "int64",
         "stats": {
          "unique_count": 4,
          "nan_count": 0,
          "min": "2000660",
          "max": "7625855",
          "histogram": [
           {
            "bin_start": 2000660,
            "bin_end": 2563179.5,
            "count": 1
           },
           {
            "bin_start": 2563179.5,
            "bin_end": 3125699,
            "count": 0
           },
           {
            "bin_start": 3125699,
            "bin_end": 3688218.5,
            "count": 0
           },
           {
            "bin_start": 3688218.5,
            "bin_end": 4250738,
            "count": 0
           },
           {
            "bin_start": 4250738,
            "bin_end": 4813257.5,
            "count": 0
           },
           {
            "bin_start": 4813257.5,
            "bin_end": 5375777,
            "count": 0
           },
           {
            "bin_start": 5375777,
            "bin_end": 5938296.5,
            "count": 0
           },
           {
            "bin_start": 5938296.5,
            "bin_end": 6500816,
            "count": 1
           },
           {
            "bin_start": 6500816,
            "bin_end": 7063335.5,
            "count": 2
           },
           {
            "bin_start": 7063335.5,
            "bin_end": 7625855,
            "count": 1
           }
          ]
         }
        },
        {
         "name": "estabelecimento_razaosocial",
         "dtype": "object",
         "stats": {
          "unique_count": 4,
          "nan_count": 0,
          "categories": [
           {
            "name": "PREFEITURA MUNICIPAL DE RIO BRANCO",
            "count": 2
           },
           {
            "name": "PREFEITURA MUNICIPAL DE SENADOR GUIOMARD",
            "count": 1
           },
           {
            "name": "2 others",
            "count": 2
           }
          ]
         }
        },
        {
         "name": "estalecimento_nofantasia",
         "dtype": "object",
         "stats": {
          "unique_count": 4,
          "nan_count": 0,
          "categories": [
           {
            "name": "DEPARTAMENTO DE VIGILANCIA EPIDEMIOLOGICA E AMBIENTAL",
            "count": 2
           },
           {
            "name": "CENTRO DE SAUDE MARIA DO SOCORRO CAVALCANTE",
            "count": 1
           },
           {
            "name": "2 others",
            "count": 2
           }
          ]
         }
        },
        {
         "name": "estabelecimento_municipio_codigo",
         "dtype": "int64",
         "stats": {
          "unique_count": 4,
          "nan_count": 0,
          "min": "120020",
          "max": "120045",
          "histogram": [
           {
            "bin_start": 120020,
            "bin_end": 120022.5,
            "count": 1
           },
           {
            "bin_start": 120022.5,
            "bin_end": 120025,
            "count": 0
           },
           {
            "bin_start": 120025,
            "bin_end": 120027.5,
            "count": 0
           },
           {
            "bin_start": 120027.5,
            "bin_end": 120030,
            "count": 0
           },
           {
            "bin_start": 120030,
            "bin_end": 120032.5,
            "count": 0
           },
           {
            "bin_start": 120032.5,
            "bin_end": 120035,
            "count": 0
           },
           {
            "bin_start": 120035,
            "bin_end": 120037.5,
            "count": 1
           },
           {
            "bin_start": 120037.5,
            "bin_end": 120040,
            "count": 0
           },
           {
            "bin_start": 120040,
            "bin_end": 120042.5,
            "count": 2
           },
           {
            "bin_start": 120042.5,
            "bin_end": 120045,
            "count": 1
           }
          ]
         }
        },
        {
         "name": "estabelecimento_municipio_nome",
         "dtype": "object",
         "stats": {
          "unique_count": 4,
          "nan_count": 0,
          "categories": [
           {
            "name": "RIO BRANCO",
            "count": 2
           },
           {
            "name": "SENADOR GUIOMARD",
            "count": 1
           },
           {
            "name": "2 others",
            "count": 2
           }
          ]
         }
        },
        {
         "name": "estabelecimento_uf",
         "dtype": "object",
         "stats": {
          "unique_count": 1,
          "nan_count": 0,
          "categories": [
           {
            "name": "AC",
            "count": 5
           }
          ]
         }
        },
        {
         "name": "vacina_grupoatendimento_codigo",
         "dtype": "int64",
         "stats": {
          "unique_count": 5,
          "nan_count": 0,
          "min": "103",
          "max": "802",
          "histogram": [
           {
            "bin_start": 103,
            "bin_end": 172.9,
            "count": 2
           },
           {
            "bin_start": 172.9,
            "bin_end": 242.8,
            "count": 1
           },
           {
            "bin_start": 242.8,
            "bin_end": 312.70000000000005,
            "count": 0
           },
           {
            "bin_start": 312.70000000000005,
            "bin_end": 382.6,
            "count": 0
           },
           {
            "bin_start": 382.6,
            "bin_end": 452.5,
            "count": 0
           },
           {
            "bin_start": 452.5,
            "bin_end": 522.4000000000001,
            "count": 0
           },
           {
            "bin_start": 522.4000000000001,
            "bin_end": 592.3000000000001,
            "count": 0
           },
           {
            "bin_start": 592.3000000000001,
            "bin_end": 662.2,
            "count": 0
           },
           {
            "bin_start": 662.2,
            "bin_end": 732.1,
            "count": 1
           },
           {
            "bin_start": 732.1,
            "bin_end": 802,
            "count": 1
           }
          ]
         }
        },
        {
         "name": "vacina_grupoatendimento_nome",
         "dtype": "object",
         "stats": {
          "unique_count": 5,
          "nan_count": 0,
          "categories": [
           {
            "name": "Hipertensão de difícil controle ou com complicações/lesão de órgão alvo",
            "count": 1
           },
           {
            "name": "Pessoas de 18 a 64 anos",
            "count": 1
           },
           {
            "name": "3 others",
            "count": 3
           }
          ]
         }
        },
        {
         "name": "vacina_categoria_codigo",
         "dtype": "float64",
         "stats": {
          "unique_count": 4,
          "nan_count": 0,
          "min": "1.0",
          "max": "8.0",
          "histogram": [
           {
            "bin_start": 1,
            "bin_end": 1.7,
            "count": 2
           },
           {
            "bin_start": 1.7,
            "bin_end": 2.4,
            "count": 1
           },
           {
            "bin_start": 2.4,
            "bin_end": 3.0999999999999996,
            "count": 0
           },
           {
            "bin_start": 3.0999999999999996,
            "bin_end": 3.8,
            "count": 0
           },
           {
            "bin_start": 3.8,
            "bin_end": 4.5,
            "count": 0
           },
           {
            "bin_start": 4.5,
            "bin_end": 5.199999999999999,
            "count": 0
           },
           {
            "bin_start": 5.199999999999999,
            "bin_end": 5.8999999999999995,
            "count": 0
           },
           {
            "bin_start": 5.8999999999999995,
            "bin_end": 6.6,
            "count": 0
           },
           {
            "bin_start": 6.6,
            "bin_end": 7.3,
            "count": 1
           },
           {
            "bin_start": 7.3,
            "bin_end": 8,
            "count": 1
           }
          ]
         }
        },
        {
         "name": "vacina_categoria_nome",
         "dtype": "object",
         "stats": {
          "unique_count": 4,
          "nan_count": 0,
          "categories": [
           {
            "name": "Comorbidades",
            "count": 2
           },
           {
            "name": "Faixa Etária",
            "count": 1
           },
           {
            "name": "2 others",
            "count": 2
           }
          ]
         }
        },
        {
         "name": "vacina_lote",
         "dtype": "object",
         "stats": {
          "unique_count": 3,
          "nan_count": 0,
          "categories": [
           {
            "name": "213VCD042Z",
            "count": 3
           },
           {
            "name": "FA9096",
            "count": 1
           },
           {
            "name": "202010028",
            "count": 1
           }
          ]
         }
        },
        {
         "name": "vacina_fabricante_nome",
         "dtype": "object",
         "stats": {
          "unique_count": 3,
          "nan_count": 0,
          "categories": [
           {
            "name": "ASTRAZENECA/FIOCRUZ",
            "count": 3
           },
           {
            "name": "PFIZER",
            "count": 1
           },
           {
            "name": "SINOVAC/BUTANTAN",
            "count": 1
           }
          ]
         }
        },
        {
         "name": "vacina_fabricante_referencia",
         "dtype": "object",
         "stats": {
          "unique_count": 3,
          "nan_count": 0,
          "categories": [
           {
            "name": "Organization/33781055000135",
            "count": 3
           },
           {
            "name": "Organization/00394544000851",
            "count": 1
           },
           {
            "name": "Organization/61189445000156",
            "count": 1
           }
          ]
         }
        },
        {
         "name": "vacina_dataaplicacao",
         "dtype": "object",
         "stats": {
          "unique_count": 5,
          "nan_count": 0,
          "categories": [
           {
            "name": "2021-05-12",
            "count": 1
           },
           {
            "name": "2021-07-27",
            "count": 1
           },
           {
            "name": "3 others",
            "count": 3
           }
          ]
         }
        },
        {
         "name": "vacina_descricao_dose",
         "dtype": "object",
         "stats": {
          "unique_count": 1,
          "nan_count": 0,
          "categories": [
           {
            "name": "1ª Dose",
            "count": 5
           }
          ]
         }
        },
        {
         "name": "vacina_codigo",
         "dtype": "int64",
         "stats": {
          "unique_count": 3,
          "nan_count": 0,
          "min": "85",
          "max": "87",
          "histogram": [
           {
            "bin_start": 85,
            "bin_end": 85.2,
            "count": 3
           },
           {
            "bin_start": 85.2,
            "bin_end": 85.4,
            "count": 0
           },
           {
            "bin_start": 85.4,
            "bin_end": 85.6,
            "count": 0
           },
           {
            "bin_start": 85.6,
            "bin_end": 85.8,
            "count": 0
           },
           {
            "bin_start": 85.8,
            "bin_end": 86,
            "count": 0
           },
           {
            "bin_start": 86,
            "bin_end": 86.2,
            "count": 1
           },
           {
            "bin_start": 86.2,
            "bin_end": 86.4,
            "count": 0
           },
           {
            "bin_start": 86.4,
            "bin_end": 86.6,
            "count": 0
           },
           {
            "bin_start": 86.6,
            "bin_end": 86.8,
            "count": 0
           },
           {
            "bin_start": 86.8,
            "bin_end": 87,
            "count": 1
           }
          ]
         }
        },
        {
         "name": "vacina_nome",
         "dtype": "object",
         "stats": {
          "unique_count": 3,
          "nan_count": 0,
          "categories": [
           {
            "name": "COVID-19 ASTRAZENECA/FIOCRUZ - COVISHIELD",
            "count": 3
           },
           {
            "name": "COVID-19 PFIZER - COMIRNATY",
            "count": 1
           },
           {
            "name": "COVID-19 SINOVAC/BUTANTAN - CORONAVAC",
            "count": 1
           }
          ]
         }
        },
        {
         "name": "sistema_origem",
         "dtype": "object",
         "stats": {
          "unique_count": 1,
          "nan_count": 0,
          "categories": [
           {
            "name": "Novo PNI",
            "count": 5
           }
          ]
         }
        },
        {
         "name": "data_importacao_rnds",
         "dtype": "object",
         "stats": {
          "unique_count": 5,
          "nan_count": 0,
          "categories": [
           {
            "name": "2021-05-19T15:34:42.000Z",
            "count": 1
           },
           {
            "name": "2021-08-01T14:20:03.000Z",
            "count": 1
           },
           {
            "name": "3 others",
            "count": 3
           }
          ]
         }
        },
        {
         "name": "id_sistema_origem",
         "dtype": "int64",
         "stats": {
          "unique_count": 1,
          "nan_count": 0,
          "min": "16341",
          "max": "16341",
          "histogram": [
           {
            "bin_start": 16340.5,
            "bin_end": 16340.6,
            "count": 0
           },
           {
            "bin_start": 16340.6,
            "bin_end": 16340.7,
            "count": 0
           },
           {
            "bin_start": 16340.7,
            "bin_end": 16340.8,
            "count": 0
           },
           {
            "bin_start": 16340.8,
            "bin_end": 16340.9,
            "count": 0
           },
           {
            "bin_start": 16340.9,
            "bin_end": 16341,
            "count": 0
           },
           {
            "bin_start": 16341,
            "bin_end": 16341.1,
            "count": 5
           },
           {
            "bin_start": 16341.1,
            "bin_end": 16341.2,
            "count": 0
           },
           {
            "bin_start": 16341.2,
            "bin_end": 16341.3,
            "count": 0
           },
           {
            "bin_start": 16341.3,
            "bin_end": 16341.4,
            "count": 0
           },
           {
            "bin_start": 16341.4,
            "bin_end": 16341.5,
            "count": 0
           }
          ]
         }
        },
        {
         "name": "_deepnote_index_column",
         "dtype": "int64"
        }
       ],
       "rows_top": [
        {
         "document_id": "0c6be3a6-36df-4973-a85d-7ff77c15148f-i0b0",
         "paciente_id": "7c71545e1690795de7a5c2e03879640b182ac13d575d9e52e7fa19da5b642748",
         "paciente_idade": 46,
         "paciente_datanascimento": "1974-07-25",
         "paciente_enumsexobiologico": "F",
         "paciente_racacor_codigo": 3,
         "paciente_racacor_valor": "PARDA",
         "paciente_endereco_coibgemunicipio": 120045,
         "paciente_endereco_copais": 10,
         "paciente_endereco_nmmunicipio": "SENADOR GUIOMARD",
         "paciente_endereco_nmpais": "BRASIL",
         "paciente_endereco_uf": "AC",
         "paciente_endereco_cep": 69925,
         "paciente_nacionalidade_enumnacionalidade": "B",
         "estabelecimento_valor": 2000660,
         "estabelecimento_razaosocial": "PREFEITURA MUNICIPAL DE SENADOR GUIOMARD",
         "estalecimento_nofantasia": "CENTRO DE SAUDE MARIA DO SOCORRO CAVALCANTE",
         "estabelecimento_municipio_codigo": 120045,
         "estabelecimento_municipio_nome": "SENADOR GUIOMARD",
         "estabelecimento_uf": "AC",
         "vacina_grupoatendimento_codigo": 107,
         "vacina_grupoatendimento_nome": "Hipertensão de difícil controle ou com complicações/lesão de órgão alvo",
         "vacina_categoria_codigo": 1,
         "vacina_categoria_nome": "Comorbidades",
         "vacina_lote": "213VCD042Z",
         "vacina_fabricante_nome": "ASTRAZENECA/FIOCRUZ",
         "vacina_fabricante_referencia": "Organization/33781055000135",
         "vacina_dataaplicacao": "2021-05-12",
         "vacina_descricao_dose": "1ª Dose",
         "vacina_codigo": 85,
         "vacina_nome": "COVID-19 ASTRAZENECA/FIOCRUZ - COVISHIELD",
         "sistema_origem": "Novo PNI",
         "data_importacao_rnds": "2021-05-19T15:34:42.000Z",
         "id_sistema_origem": 16341,
         "_deepnote_index_column": 0
        },
        {
         "document_id": "35361c96-c780-4033-bd60-210dec29167a-i0b0",
         "paciente_id": "b3d5628ff71e1ecb3804a37f7f03caae5a6ac6802162d1697d27241e8c7a8f01",
         "paciente_idade": 20,
         "paciente_datanascimento": "2000-12-03",
         "paciente_enumsexobiologico": "F",
         "paciente_racacor_codigo": 3,
         "paciente_racacor_valor": "PARDA",
         "paciente_endereco_coibgemunicipio": 120040,
         "paciente_endereco_copais": 10,
         "paciente_endereco_nmmunicipio": "RIO BRANCO",
         "paciente_endereco_nmpais": "BRASIL",
         "paciente_endereco_uf": "AC",
         "paciente_endereco_cep": 69923,
         "paciente_nacionalidade_enumnacionalidade": "B",
         "estabelecimento_valor": 6917291,
         "estabelecimento_razaosocial": "PREFEITURA MUNICIPAL DE RIO BRANCO",
         "estalecimento_nofantasia": "DEPARTAMENTO DE VIGILANCIA EPIDEMIOLOGICA E AMBIENTAL",
         "estabelecimento_municipio_codigo": 120040,
         "estabelecimento_municipio_nome": "RIO BRANCO",
         "estabelecimento_uf": "AC",
         "vacina_grupoatendimento_codigo": 201,
         "vacina_grupoatendimento_nome": "Pessoas de 18 a 64 anos",
         "vacina_categoria_codigo": 2,
         "vacina_categoria_nome": "Faixa Etária",
         "vacina_lote": "FA9096",
         "vacina_fabricante_nome": "PFIZER",
         "vacina_fabricante_referencia": "Organization/00394544000851",
         "vacina_dataaplicacao": "2021-07-27",
         "vacina_descricao_dose": "1ª Dose",
         "vacina_codigo": 87,
         "vacina_nome": "COVID-19 PFIZER - COMIRNATY",
         "sistema_origem": "Novo PNI",
         "data_importacao_rnds": "2021-08-01T14:20:03.000Z",
         "id_sistema_origem": 16341,
         "_deepnote_index_column": 1
        },
        {
         "document_id": "43095ed8-c90e-47c9-ba10-5392e12b1b1b-i0b0",
         "paciente_id": "f72004f5fb31cce6d140efd4592ada58cf81b13417288ee4b84d953ecdac2376",
         "paciente_idade": 22,
         "paciente_datanascimento": "1998-12-10",
         "paciente_enumsexobiologico": "M",
         "paciente_racacor_codigo": 5,
         "paciente_racacor_valor": "INDIGENA",
         "paciente_endereco_coibgemunicipio": 120035,
         "paciente_endereco_copais": 10,
         "paciente_endereco_nmmunicipio": "MARECHAL THAUMATURGO",
         "paciente_endereco_nmpais": "BRASIL",
         "paciente_endereco_uf": "AC",
         "paciente_endereco_cep": 69980,
         "paciente_nacionalidade_enumnacionalidade": "B",
         "estabelecimento_valor": 7625855,
         "estabelecimento_razaosocial": "DISTRITO SANITARIO ESPECIAL INDIGENA ALTO RIO JURUA",
         "estalecimento_nofantasia": "POLO BASE DE MARECHAL THAUMATURGO",
         "estabelecimento_municipio_codigo": 120035,
         "estabelecimento_municipio_nome": "MARECHAL THAUMATURGO",
         "estabelecimento_uf": "AC",
         "vacina_grupoatendimento_codigo": 701,
         "vacina_grupoatendimento_nome": "Povos indígenas em terras indígenas",
         "vacina_categoria_codigo": 7,
         "vacina_categoria_nome": "Povos Indígenas",
         "vacina_lote": "202010028",
         "vacina_fabricante_nome": "SINOVAC/BUTANTAN",
         "vacina_fabricante_referencia": "Organization/61189445000156",
         "vacina_dataaplicacao": "2021-02-25",
         "vacina_descricao_dose": "1ª Dose",
         "vacina_codigo": 86,
         "vacina_nome": "COVID-19 SINOVAC/BUTANTAN - CORONAVAC",
         "sistema_origem": "Novo PNI",
         "data_importacao_rnds": "2021-03-10T19:43:54.000Z",
         "id_sistema_origem": 16341,
         "_deepnote_index_column": 2
        },
        {
         "document_id": "4f58867c-e3e1-4b79-81a5-d43b2c5770b0-i0b0",
         "paciente_id": "b455c80f80546eb43d229a0d32073798840a16aa453c673fe660653aa71e5945",
         "paciente_idade": 37,
         "paciente_datanascimento": "1983-07-03",
         "paciente_enumsexobiologico": "M",
         "paciente_racacor_codigo": 3,
         "paciente_racacor_valor": "PARDA",
         "paciente_endereco_coibgemunicipio": 120040,
         "paciente_endereco_copais": 10,
         "paciente_endereco_nmmunicipio": "RIO BRANCO",
         "paciente_endereco_nmpais": "BRASIL",
         "paciente_endereco_uf": "AC",
         "paciente_endereco_cep": 69902,
         "paciente_nacionalidade_enumnacionalidade": "B",
         "estabelecimento_valor": 6917291,
         "estabelecimento_razaosocial": "PREFEITURA MUNICIPAL DE RIO BRANCO",
         "estalecimento_nofantasia": "DEPARTAMENTO DE VIGILANCIA EPIDEMIOLOGICA E AMBIENTAL",
         "estabelecimento_municipio_codigo": 120040,
         "estabelecimento_municipio_nome": "RIO BRANCO",
         "estabelecimento_uf": "AC",
         "vacina_grupoatendimento_codigo": 802,
         "vacina_grupoatendimento_nome": "Ensino Superior",
         "vacina_categoria_codigo": 8,
         "vacina_categoria_nome": "Trabalhadores da Educação",
         "vacina_lote": "213VCD042Z",
         "vacina_fabricante_nome": "ASTRAZENECA/FIOCRUZ",
         "vacina_fabricante_referencia": "Organization/33781055000135",
         "vacina_dataaplicacao": "2021-06-08",
         "vacina_descricao_dose": "1ª Dose",
         "vacina_codigo": 85,
         "vacina_nome": "COVID-19 ASTRAZENECA/FIOCRUZ - COVISHIELD",
         "sistema_origem": "Novo PNI",
         "data_importacao_rnds": "2021-06-11T16:17:22.000Z",
         "id_sistema_origem": 16341,
         "_deepnote_index_column": 3
        },
        {
         "document_id": "41f0bf14-1b8d-4141-904a-d2db987ea846-i0b0",
         "paciente_id": "6687b2e01ac41dfd8e415d530349ed7ceb55f3d74947aec6b8634b82f823a64d",
         "paciente_idade": 57,
         "paciente_datanascimento": "1964-04-07",
         "paciente_enumsexobiologico": "M",
         "paciente_racacor_codigo": 4,
         "paciente_racacor_valor": "AMARELA",
         "paciente_endereco_coibgemunicipio": 120020,
         "paciente_endereco_copais": 10,
         "paciente_endereco_nmmunicipio": "CRUZEIRO DO SUL",
         "paciente_endereco_nmpais": "BRASIL",
         "paciente_endereco_uf": "AC",
         "paciente_endereco_cep": 69980,
         "paciente_nacionalidade_enumnacionalidade": "B",
         "estabelecimento_valor": 6159087,
         "estabelecimento_razaosocial": "PREFEITURA MUNICIPAL DE CRUZEIRO DO SUL",
         "estalecimento_nofantasia": "SECRETARIA MUNICIPAL DE SAUDE DE CRUZEIRO DO SUL",
         "estabelecimento_municipio_codigo": 120020,
         "estabelecimento_municipio_nome": "CRUZEIRO DO SUL",
         "estabelecimento_uf": "AC",
         "vacina_grupoatendimento_codigo": 103,
         "vacina_grupoatendimento_nome": "Diabetes Mellitus",
         "vacina_categoria_codigo": 1,
         "vacina_categoria_nome": "Comorbidades",
         "vacina_lote": "213VCD042Z",
         "vacina_fabricante_nome": "ASTRAZENECA/FIOCRUZ",
         "vacina_fabricante_referencia": "Organization/33781055000135",
         "vacina_dataaplicacao": "2021-05-15",
         "vacina_descricao_dose": "1ª Dose",
         "vacina_codigo": 85,
         "vacina_nome": "COVID-19 ASTRAZENECA/FIOCRUZ - COVISHIELD",
         "sistema_origem": "Novo PNI",
         "data_importacao_rnds": "2021-05-18T02:39:37.000Z",
         "id_sistema_origem": 16341,
         "_deepnote_index_column": 4
        }
       ],
       "rows_bottom": null
      },
      "text/plain": "                                 document_id  \\\n0  0c6be3a6-36df-4973-a85d-7ff77c15148f-i0b0   \n1  35361c96-c780-4033-bd60-210dec29167a-i0b0   \n2  43095ed8-c90e-47c9-ba10-5392e12b1b1b-i0b0   \n3  4f58867c-e3e1-4b79-81a5-d43b2c5770b0-i0b0   \n4  41f0bf14-1b8d-4141-904a-d2db987ea846-i0b0   \n\n                                         paciente_id  paciente_idade  \\\n0  7c71545e1690795de7a5c2e03879640b182ac13d575d9e...              46   \n1  b3d5628ff71e1ecb3804a37f7f03caae5a6ac6802162d1...              20   \n2  f72004f5fb31cce6d140efd4592ada58cf81b13417288e...              22   \n3  b455c80f80546eb43d229a0d32073798840a16aa453c67...              37   \n4  6687b2e01ac41dfd8e415d530349ed7ceb55f3d74947ae...              57   \n\n  paciente_datanascimento paciente_enumsexobiologico  paciente_racacor_codigo  \\\n0              1974-07-25                          F                        3   \n1              2000-12-03                          F                        3   \n2              1998-12-10                          M                        5   \n3              1983-07-03                          M                        3   \n4              1964-04-07                          M                        4   \n\n  paciente_racacor_valor  paciente_endereco_coibgemunicipio  \\\n0                  PARDA                           120045.0   \n1                  PARDA                           120040.0   \n2               INDIGENA                           120035.0   \n3                  PARDA                           120040.0   \n4                AMARELA                           120020.0   \n\n   paciente_endereco_copais paciente_endereco_nmmunicipio  ... vacina_lote  \\\n0                      10.0              SENADOR GUIOMARD  ...  213VCD042Z   \n1                      10.0                    RIO BRANCO  ...      FA9096   \n2                      10.0          MARECHAL THAUMATURGO  ...   202010028   \n3                      10.0                    RIO BRANCO  ...  213VCD042Z   \n4                      10.0               CRUZEIRO DO SUL  ...  213VCD042Z   \n\n  vacina_fabricante_nome  vacina_fabricante_referencia vacina_dataaplicacao  \\\n0    ASTRAZENECA/FIOCRUZ   Organization/33781055000135           2021-05-12   \n1                 PFIZER   Organization/00394544000851           2021-07-27   \n2       SINOVAC/BUTANTAN   Organization/61189445000156           2021-02-25   \n3    ASTRAZENECA/FIOCRUZ   Organization/33781055000135           2021-06-08   \n4    ASTRAZENECA/FIOCRUZ   Organization/33781055000135           2021-05-15   \n\n   vacina_descricao_dose vacina_codigo  \\\n0                1ª Dose            85   \n1                1ª Dose            87   \n2                1ª Dose            86   \n3                1ª Dose            85   \n4                1ª Dose            85   \n\n                                 vacina_nome  sistema_origem  \\\n0  COVID-19 ASTRAZENECA/FIOCRUZ - COVISHIELD        Novo PNI   \n1                COVID-19 PFIZER - COMIRNATY        Novo PNI   \n2      COVID-19 SINOVAC/BUTANTAN - CORONAVAC        Novo PNI   \n3  COVID-19 ASTRAZENECA/FIOCRUZ - COVISHIELD        Novo PNI   \n4  COVID-19 ASTRAZENECA/FIOCRUZ - COVISHIELD        Novo PNI   \n\n       data_importacao_rnds id_sistema_origem  \n0  2021-05-19T15:34:42.000Z             16341  \n1  2021-08-01T14:20:03.000Z             16341  \n2  2021-03-10T19:43:54.000Z             16341  \n3  2021-06-11T16:17:22.000Z             16341  \n4  2021-05-18T02:39:37.000Z             16341  \n\n[5 rows x 34 columns]",
      "text/html": "<div>\n<style scoped>\n    .dataframe tbody tr th:only-of-type {\n        vertical-align: middle;\n    }\n\n    .dataframe tbody tr th {\n        vertical-align: top;\n    }\n\n    .dataframe thead th {\n        text-align: right;\n    }\n</style>\n<table border=\"1\" class=\"dataframe\">\n  <thead>\n    <tr style=\"text-align: right;\">\n      <th></th>\n      <th>document_id</th>\n      <th>paciente_id</th>\n      <th>paciente_idade</th>\n      <th>paciente_datanascimento</th>\n      <th>paciente_enumsexobiologico</th>\n      <th>paciente_racacor_codigo</th>\n      <th>paciente_racacor_valor</th>\n      <th>paciente_endereco_coibgemunicipio</th>\n      <th>paciente_endereco_copais</th>\n      <th>paciente_endereco_nmmunicipio</th>\n      <th>...</th>\n      <th>vacina_lote</th>\n      <th>vacina_fabricante_nome</th>\n      <th>vacina_fabricante_referencia</th>\n      <th>vacina_dataaplicacao</th>\n      <th>vacina_descricao_dose</th>\n      <th>vacina_codigo</th>\n      <th>vacina_nome</th>\n      <th>sistema_origem</th>\n      <th>data_importacao_rnds</th>\n      <th>id_sistema_origem</th>\n    </tr>\n  </thead>\n  <tbody>\n    <tr>\n      <th>0</th>\n      <td>0c6be3a6-36df-4973-a85d-7ff77c15148f-i0b0</td>\n      <td>7c71545e1690795de7a5c2e03879640b182ac13d575d9e...</td>\n      <td>46</td>\n      <td>1974-07-25</td>\n      <td>F</td>\n      <td>3</td>\n      <td>PARDA</td>\n      <td>120045.0</td>\n      <td>10.0</td>\n      <td>SENADOR GUIOMARD</td>\n      <td>...</td>\n      <td>213VCD042Z</td>\n      <td>ASTRAZENECA/FIOCRUZ</td>\n      <td>Organization/33781055000135</td>\n      <td>2021-05-12</td>\n      <td>1ª Dose</td>\n      <td>85</td>\n      <td>COVID-19 ASTRAZENECA/FIOCRUZ - COVISHIELD</td>\n      <td>Novo PNI</td>\n      <td>2021-05-19T15:34:42.000Z</td>\n      <td>16341</td>\n    </tr>\n    <tr>\n      <th>1</th>\n      <td>35361c96-c780-4033-bd60-210dec29167a-i0b0</td>\n      <td>b3d5628ff71e1ecb3804a37f7f03caae5a6ac6802162d1...</td>\n      <td>20</td>\n      <td>2000-12-03</td>\n      <td>F</td>\n      <td>3</td>\n      <td>PARDA</td>\n      <td>120040.0</td>\n      <td>10.0</td>\n      <td>RIO BRANCO</td>\n      <td>...</td>\n      <td>FA9096</td>\n      <td>PFIZER</td>\n      <td>Organization/00394544000851</td>\n      <td>2021-07-27</td>\n      <td>1ª Dose</td>\n      <td>87</td>\n      <td>COVID-19 PFIZER - COMIRNATY</td>\n      <td>Novo PNI</td>\n      <td>2021-08-01T14:20:03.000Z</td>\n      <td>16341</td>\n    </tr>\n    <tr>\n      <th>2</th>\n      <td>43095ed8-c90e-47c9-ba10-5392e12b1b1b-i0b0</td>\n      <td>f72004f5fb31cce6d140efd4592ada58cf81b13417288e...</td>\n      <td>22</td>\n      <td>1998-12-10</td>\n      <td>M</td>\n      <td>5</td>\n      <td>INDIGENA</td>\n      <td>120035.0</td>\n      <td>10.0</td>\n      <td>MARECHAL THAUMATURGO</td>\n      <td>...</td>\n      <td>202010028</td>\n      <td>SINOVAC/BUTANTAN</td>\n      <td>Organization/61189445000156</td>\n      <td>2021-02-25</td>\n      <td>1ª Dose</td>\n      <td>86</td>\n      <td>COVID-19 SINOVAC/BUTANTAN - CORONAVAC</td>\n      <td>Novo PNI</td>\n      <td>2021-03-10T19:43:54.000Z</td>\n      <td>16341</td>\n    </tr>\n    <tr>\n      <th>3</th>\n      <td>4f58867c-e3e1-4b79-81a5-d43b2c5770b0-i0b0</td>\n      <td>b455c80f80546eb43d229a0d32073798840a16aa453c67...</td>\n      <td>37</td>\n      <td>1983-07-03</td>\n      <td>M</td>\n      <td>3</td>\n      <td>PARDA</td>\n      <td>120040.0</td>\n      <td>10.0</td>\n      <td>RIO BRANCO</td>\n      <td>...</td>\n      <td>213VCD042Z</td>\n      <td>ASTRAZENECA/FIOCRUZ</td>\n      <td>Organization/33781055000135</td>\n      <td>2021-06-08</td>\n      <td>1ª Dose</td>\n      <td>85</td>\n      <td>COVID-19 ASTRAZENECA/FIOCRUZ - COVISHIELD</td>\n      <td>Novo PNI</td>\n      <td>2021-06-11T16:17:22.000Z</td>\n      <td>16341</td>\n    </tr>\n    <tr>\n      <th>4</th>\n      <td>41f0bf14-1b8d-4141-904a-d2db987ea846-i0b0</td>\n      <td>6687b2e01ac41dfd8e415d530349ed7ceb55f3d74947ae...</td>\n      <td>57</td>\n      <td>1964-04-07</td>\n      <td>M</td>\n      <td>4</td>\n      <td>AMARELA</td>\n      <td>120020.0</td>\n      <td>10.0</td>\n      <td>CRUZEIRO DO SUL</td>\n      <td>...</td>\n      <td>213VCD042Z</td>\n      <td>ASTRAZENECA/FIOCRUZ</td>\n      <td>Organization/33781055000135</td>\n      <td>2021-05-15</td>\n      <td>1ª Dose</td>\n      <td>85</td>\n      <td>COVID-19 ASTRAZENECA/FIOCRUZ - COVISHIELD</td>\n      <td>Novo PNI</td>\n      <td>2021-05-18T02:39:37.000Z</td>\n      <td>16341</td>\n    </tr>\n  </tbody>\n</table>\n<p>5 rows × 34 columns</p>\n</div>"
     },
     "metadata": {}
    }
   ],
   "execution_count": null
  },
  {
   "cell_type": "markdown",
   "source": "### Exercício 1\n\nSua missão é entender como a biblioteca irá retornar para você, transferir para pandas e fazer todos os tratamentos que você achar relevantes para aprensentar uma visualização de dados que nos ajude a entender **A evolução da imunização no Acre**.\n\n_nota: esse exercicio é aberto, não existe uma unica forma certa!_\n\nsugestões:\n* vacinações por mês\n* porcentagem de imunização por tipo de vacina\n\n### Exercício 2\nVocê foi contratado por uma consultoria de _fact checking_ e precisa verificar a veracidade de algumas noticias. Através dos dados disponiveis em nossa base, tente analisar essas três noticias sobre a vacinação no estado do Acre. \n\n_Não se preocupe de chegar a exatamente os numeros apresentados, o importante é você pensar, discutir e descobrir esses dados usando essas noticias de material_\n\n* [Prefeitura suspende vacinação contra Covid neste domingo (17) em Rio Branco](https://g1.globo.com/ac/acre/noticia/2021/10/16/prefeitura-suspende-vacinacao-contra-covid-neste-domingo-17-em-rio-branco.ghtml)\n\n* [Cruzeiro do Sul, no Acre, começa a vacinar adolescentes a partir dos 12 anos neste sábado](https://g1.globo.com/ac/acre/noticia/2021/07/29/cruzeiro-do-sul-no-acre-comeca-a-vacinar-adolescentes-a-partir-dos-12-anos-neste-sabado.ghtml)\n\n* [Acre vacinou menos de 60% dos indígenas que vivem em aldeias contra Covid](https://g1.globo.com/ac/acre/noticia/2021/04/16/acre-vacinou-menos-de-60percent-dos-indigenas-que-vivem-em-aldeias-contra-covid.ghtml)\n\n",
   "metadata": {
    "tags": [],
    "cell_id": "00005-44cd6753-ad5f-4701-b8a3-c57fd486a3bb",
    "deepnote_cell_type": "markdown"
   }
  },
  {
   "cell_type": "markdown",
   "source": "#### Exercício 1 - Resposta",
   "metadata": {
    "tags": [],
    "cell_id": "00004-e3ce2761-88e2-4326-8d88-a72502562b4c",
    "deepnote_cell_type": "markdown"
   }
  },
  {
   "cell_type": "markdown",
   "source": "##### Distribuição de Raça/Cor da População Vacinada",
   "metadata": {
    "tags": [],
    "cell_id": "00005-82a09e04-98b9-4c6e-9cb1-acde817ed78b",
    "deepnote_cell_type": "markdown"
   }
  },
  {
   "cell_type": "code",
   "metadata": {
    "tags": [],
    "cell_id": "00005-4e498630-64a7-4193-b3b5-7c5cc5fcef91",
    "deepnote_to_be_reexecuted": false,
    "source_hash": "14f60b8f",
    "execution_start": 1635685930548,
    "execution_millis": 36,
    "deepnote_cell_type": "code"
   },
   "source": "df.shape",
   "outputs": [
    {
     "output_type": "execute_result",
     "execution_count": 2,
     "data": {
      "text/plain": "(886843, 34)"
     },
     "metadata": {}
    }
   ],
   "execution_count": null
  },
  {
   "cell_type": "code",
   "metadata": {
    "tags": [],
    "cell_id": "00004-d2a32c6b-e3ba-4742-b9e8-bdeb032a946e",
    "deepnote_to_be_reexecuted": false,
    "source_hash": "8f2c6a2",
    "execution_start": 1635685930595,
    "execution_millis": 18,
    "deepnote_cell_type": "code"
   },
   "source": "df['paciente_racacor_valor'].isna().value_counts()",
   "outputs": [
    {
     "output_type": "execute_result",
     "execution_count": 3,
     "data": {
      "text/plain": "False    886843\nName: paciente_racacor_valor, dtype: int64"
     },
     "metadata": {}
    }
   ],
   "execution_count": null
  },
  {
   "cell_type": "code",
   "metadata": {
    "tags": [],
    "cell_id": "00006-c62f12c7-c397-4077-b7fe-212347e42c53",
    "deepnote_to_be_reexecuted": false,
    "source_hash": "b31b9b76",
    "execution_start": 1635685930617,
    "execution_millis": 751,
    "deepnote_cell_type": "code"
   },
   "source": "import matplotlib.pyplot as plt\nraca_df=df['paciente_racacor_valor'].value_counts()/df.shape[0]*100\nraca_df.name=''\nraca_df.plot(kind='pie',title='Raça/Cor da População Vacinada',autopct='%1.1f%%',pctdistance=0.8,)",
   "outputs": [
    {
     "output_type": "execute_result",
     "execution_count": 4,
     "data": {
      "text/plain": "<AxesSubplot:title={'center':'Raça/Cor da População Vacinada'}>"
     },
     "metadata": {}
    },
    {
     "data": {
      "text/plain": "<Figure size 432x288 with 1 Axes>",
      "image/png": "[encoded data removed]"
     },
     "metadata": {
      "image/png": {
       "width": 295,
       "height": 247
      }
     },
     "output_type": "display_data"
    }
   ],
   "execution_count": null
  },
  {
   "cell_type": "markdown",
   "source": "#### Distribuição de Idade",
   "metadata": {
    "tags": [],
    "cell_id": "00009-10ae1c04-4f13-4136-907c-4eb7577aff30",
    "deepnote_cell_type": "markdown"
   }
  },
  {
   "cell_type": "code",
   "metadata": {
    "tags": [],
    "cell_id": "00009-b6894235-5312-4bdf-a6cb-4cc693e30dd2",
    "deepnote_to_be_reexecuted": false,
    "source_hash": "53204065",
    "execution_start": 1635685931411,
    "execution_millis": 3,
    "deepnote_cell_type": "code"
   },
   "source": "df['paciente_idade'].isna().value_counts()",
   "outputs": [
    {
     "output_type": "execute_result",
     "execution_count": 5,
     "data": {
      "text/plain": "False    886843\nName: paciente_idade, dtype: int64"
     },
     "metadata": {}
    }
   ],
   "execution_count": null
  },
  {
   "cell_type": "code",
   "metadata": {
    "tags": [],
    "cell_id": "00010-1b5866ac-6c49-4aa3-b40f-cfabf10c1af7",
    "deepnote_to_be_reexecuted": false,
    "source_hash": "acea1e3e",
    "execution_start": 1635685931412,
    "execution_millis": 1689,
    "deepnote_cell_type": "code"
   },
   "source": "import seaborn as sns\n\nax=sns.histplot(df['paciente_idade'],stat='percent',binwidth=10)\nax.set(xlabel='Idade',ylabel='Percentual',title='Distribuição de Idades da Populaçao Vacinada',)\nplt.gca().yaxis.set_major_formatter(plt.FuncFormatter('{:.1f}%'.format))",
   "outputs": [
    {
     "data": {
      "text/plain": "<Figure size 432x288 with 1 Axes>",
      "image/png": "[encoded data removed]"
     },
     "metadata": {
      "needs_background": "light",
      "image/png": {
       "width": 401,
       "height": 278
      }
     },
     "output_type": "display_data"
    }
   ],
   "execution_count": null
  },
  {
   "cell_type": "markdown",
   "source": "#### Porcentagem de Imunização por Vacina",
   "metadata": {
    "tags": [],
    "cell_id": "00012-c96294ce-62d8-4d09-99f3-43a35db1a6e9",
    "deepnote_cell_type": "markdown"
   }
  },
  {
   "cell_type": "code",
   "metadata": {
    "tags": [],
    "cell_id": "00013-34e34bdb-dcb6-4ae3-9556-05100a908617",
    "deepnote_to_be_reexecuted": false,
    "source_hash": "56b04f00",
    "execution_start": 1635685933215,
    "execution_millis": 46,
    "deepnote_cell_type": "code"
   },
   "source": "df['vacina_fabricante_nome'].value_counts()",
   "outputs": [
    {
     "output_type": "execute_result",
     "execution_count": 7,
     "data": {
      "text/plain": "ASTRAZENECA/FIOCRUZ      386535\nPFIZER                   286626\nSINOVAC/BUTANTAN         171335\nASTRAZENECA               24983\nJANSSEN                   12084\nFUNDACAO OSWALDO CRUZ      2483\nMINISTERIO DA SAUDE        2445\nFUNDACAO BUTANTAN           352\nName: vacina_fabricante_nome, dtype: int64"
     },
     "metadata": {}
    }
   ],
   "execution_count": null
  },
  {
   "cell_type": "markdown",
   "source": "### Exercício 2\n##### Infos da notícia 1:\nVacinação suspensa no Rio Branco no dia 17/10/2021\n\n864.118 vacinas aplicadas até o dia 16/10/2021, sendo:\n- 540.713 1ª dose\n- 308.415 2ª dose \n- 12.071 dose única\n- 2.515 reforço",
   "metadata": {
    "tags": [],
    "cell_id": "00014-6a8f88d3-7d5e-4d15-a95b-ce668c6faa69",
    "deepnote_cell_type": "markdown"
   }
  },
  {
   "cell_type": "code",
   "metadata": {
    "tags": [],
    "cell_id": "00016-6d386118-90e4-4933-85ea-8f873fc6ff2b",
    "deepnote_to_be_reexecuted": false,
    "source_hash": "752e2cdd",
    "execution_start": 1635685933376,
    "execution_millis": 102,
    "deepnote_cell_type": "code"
   },
   "source": "df.loc[(df['paciente_endereco_nmmunicipio']=='RIO BRANCO') & (df['vacina_dataaplicacao']=='2021-10-17')]",
   "outputs": [
    {
     "output_type": "execute_result",
     "execution_count": 8,
     "data": {
      "application/vnd.deepnote.dataframe.v2+json": {
       "row_count": 0,
       "column_count": 34,
       "columns": [
        {
         "name": "document_id",
         "dtype": "object",
         "stats": {
          "unique_count": 0,
          "nan_count": 0,
          "categories": []
         }
        },
        {
         "name": "paciente_id",
         "dtype": "object",
         "stats": {
          "unique_count": 0,
          "nan_count": 0,
          "categories": []
         }
        },
        {
         "name": "paciente_idade",
         "dtype": "int64",
         "stats": {
          "unique_count": 0,
          "nan_count": 0,
          "min": null,
          "max": null,
          "histogram": [
           {
            "bin_start": 0,
            "bin_end": 0.1,
            "count": 0
           },
           {
            "bin_start": 0.1,
            "bin_end": 0.2,
            "count": 0
           },
           {
            "bin_start": 0.2,
            "bin_end": 0.30000000000000004,
            "count": 0
           },
           {
            "bin_start": 0.30000000000000004,
            "bin_end": 0.4,
            "count": 0
           },
           {
            "bin_start": 0.4,
            "bin_end": 0.5,
            "count": 0
           },
           {
            "bin_start": 0.5,
            "bin_end": 0.6000000000000001,
            "count": 0
           },
           {
            "bin_start": 0.6000000000000001,
            "bin_end": 0.7000000000000001,
            "count": 0
           },
           {
            "bin_start": 0.7000000000000001,
            "bin_end": 0.8,
            "count": 0
           },
           {
            "bin_start": 0.8,
            "bin_end": 0.9,
            "count": 0
           },
           {
            "bin_start": 0.9,
            "bin_end": 1,
            "count": 0
           }
          ]
         }
        },
        {
         "name": "paciente_datanascimento",
         "dtype": "object",
         "stats": {
          "unique_count": 0,
          "nan_count": 0,
          "categories": []
         }
        },
        {
         "name": "paciente_enumsexobiologico",
         "dtype": "object",
         "stats": {
          "unique_count": 0,
          "nan_count": 0,
          "categories": []
         }
        },
        {
         "name": "paciente_racacor_codigo",
         "dtype": "int64",
         "stats": {
          "unique_count": 0,
          "nan_count": 0,
          "min": null,
          "max": null,
          "histogram": [
           {
            "bin_start": 0,
            "bin_end": 0.1,
            "count": 0
           },
           {
            "bin_start": 0.1,
            "bin_end": 0.2,
            "count": 0
           },
           {
            "bin_start": 0.2,
            "bin_end": 0.30000000000000004,
            "count": 0
           },
           {
            "bin_start": 0.30000000000000004,
            "bin_end": 0.4,
            "count": 0
           },
           {
            "bin_start": 0.4,
            "bin_end": 0.5,
            "count": 0
           },
           {
            "bin_start": 0.5,
            "bin_end": 0.6000000000000001,
            "count": 0
           },
           {
            "bin_start": 0.6000000000000001,
            "bin_end": 0.7000000000000001,
            "count": 0
           },
           {
            "bin_start": 0.7000000000000001,
            "bin_end": 0.8,
            "count": 0
           },
           {
            "bin_start": 0.8,
            "bin_end": 0.9,
            "count": 0
           },
           {
            "bin_start": 0.9,
            "bin_end": 1,
            "count": 0
           }
          ]
         }
        },
        {
         "name": "paciente_racacor_valor",
         "dtype": "object",
         "stats": {
          "unique_count": 0,
          "nan_count": 0,
          "categories": []
         }
        },
        {
         "name": "paciente_endereco_coibgemunicipio",
         "dtype": "float64",
         "stats": {
          "unique_count": 0,
          "nan_count": 0,
          "min": null,
          "max": null,
          "histogram": [
           {
            "bin_start": 0,
            "bin_end": 0.1,
            "count": 0
           },
           {
            "bin_start": 0.1,
            "bin_end": 0.2,
            "count": 0
           },
           {
            "bin_start": 0.2,
            "bin_end": 0.30000000000000004,
            "count": 0
           },
           {
            "bin_start": 0.30000000000000004,
            "bin_end": 0.4,
            "count": 0
           },
           {
            "bin_start": 0.4,
            "bin_end": 0.5,
            "count": 0
           },
           {
            "bin_start": 0.5,
            "bin_end": 0.6000000000000001,
            "count": 0
           },
           {
            "bin_start": 0.6000000000000001,
            "bin_end": 0.7000000000000001,
            "count": 0
           },
           {
            "bin_start": 0.7000000000000001,
            "bin_end": 0.8,
            "count": 0
           },
           {
            "bin_start": 0.8,
            "bin_end": 0.9,
            "count": 0
           },
           {
            "bin_start": 0.9,
            "bin_end": 1,
            "count": 0
           }
          ]
         }
        },
        {
         "name": "paciente_endereco_copais",
         "dtype": "float64",
         "stats": {
          "unique_count": 0,
          "nan_count": 0,
          "min": null,
          "max": null,
          "histogram": [
           {
            "bin_start": 0,
            "bin_end": 0.1,
            "count": 0
           },
           {
            "bin_start": 0.1,
            "bin_end": 0.2,
            "count": 0
           },
           {
            "bin_start": 0.2,
            "bin_end": 0.30000000000000004,
            "count": 0
           },
           {
            "bin_start": 0.30000000000000004,
            "bin_end": 0.4,
            "count": 0
           },
           {
            "bin_start": 0.4,
            "bin_end": 0.5,
            "count": 0
           },
           {
            "bin_start": 0.5,
            "bin_end": 0.6000000000000001,
            "count": 0
           },
           {
            "bin_start": 0.6000000000000001,
            "bin_end": 0.7000000000000001,
            "count": 0
           },
           {
            "bin_start": 0.7000000000000001,
            "bin_end": 0.8,
            "count": 0
           },
           {
            "bin_start": 0.8,
            "bin_end": 0.9,
            "count": 0
           },
           {
            "bin_start": 0.9,
            "bin_end": 1,
            "count": 0
           }
          ]
         }
        },
        {
         "name": "paciente_endereco_nmmunicipio",
         "dtype": "object",
         "stats": {
          "unique_count": 0,
          "nan_count": 0,
          "categories": []
         }
        },
        {
         "name": "paciente_endereco_nmpais",
         "dtype": "object",
         "stats": {
          "unique_count": 0,
          "nan_count": 0,
          "categories": []
         }
        },
        {
         "name": "paciente_endereco_uf",
         "dtype": "object",
         "stats": {
          "unique_count": 0,
          "nan_count": 0,
          "categories": []
         }
        },
        {
         "name": "paciente_endereco_cep",
         "dtype": "float64",
         "stats": {
          "unique_count": 0,
          "nan_count": 0,
          "min": null,
          "max": null,
          "histogram": [
           {
            "bin_start": 0,
            "bin_end": 0.1,
            "count": 0
           },
           {
            "bin_start": 0.1,
            "bin_end": 0.2,
            "count": 0
           },
           {
            "bin_start": 0.2,
            "bin_end": 0.30000000000000004,
            "count": 0
           },
           {
            "bin_start": 0.30000000000000004,
            "bin_end": 0.4,
            "count": 0
           },
           {
            "bin_start": 0.4,
            "bin_end": 0.5,
            "count": 0
           },
           {
            "bin_start": 0.5,
            "bin_end": 0.6000000000000001,
            "count": 0
           },
           {
            "bin_start": 0.6000000000000001,
            "bin_end": 0.7000000000000001,
            "count": 0
           },
           {
            "bin_start": 0.7000000000000001,
            "bin_end": 0.8,
            "count": 0
           },
           {
            "bin_start": 0.8,
            "bin_end": 0.9,
            "count": 0
           },
           {
            "bin_start": 0.9,
            "bin_end": 1,
            "count": 0
           }
          ]
         }
        },
        {
         "name": "paciente_nacionalidade_enumnacionalidade",
         "dtype": "object",
         "stats": {
          "unique_count": 0,
          "nan_count": 0,
          "categories": []
         }
        },
        {
         "name": "estabelecimento_valor",
         "dtype": "int64",
         "stats": {
          "unique_count": 0,
          "nan_count": 0,
          "min": null,
          "max": null,
          "histogram": [
           {
            "bin_start": 0,
            "bin_end": 0.1,
            "count": 0
           },
           {
            "bin_start": 0.1,
            "bin_end": 0.2,
            "count": 0
           },
           {
            "bin_start": 0.2,
            "bin_end": 0.30000000000000004,
            "count": 0
           },
           {
            "bin_start": 0.30000000000000004,
            "bin_end": 0.4,
            "count": 0
           },
           {
            "bin_start": 0.4,
            "bin_end": 0.5,
            "count": 0
           },
           {
            "bin_start": 0.5,
            "bin_end": 0.6000000000000001,
            "count": 0
           },
           {
            "bin_start": 0.6000000000000001,
            "bin_end": 0.7000000000000001,
            "count": 0
           },
           {
            "bin_start": 0.7000000000000001,
            "bin_end": 0.8,
            "count": 0
           },
           {
            "bin_start": 0.8,
            "bin_end": 0.9,
            "count": 0
           },
           {
            "bin_start": 0.9,
            "bin_end": 1,
            "count": 0
           }
          ]
         }
        },
        {
         "name": "estabelecimento_razaosocial",
         "dtype": "object",
         "stats": {
          "unique_count": 0,
          "nan_count": 0,
          "categories": []
         }
        },
        {
         "name": "estalecimento_nofantasia",
         "dtype": "object",
         "stats": {
          "unique_count": 0,
          "nan_count": 0,
          "categories": []
         }
        },
        {
         "name": "estabelecimento_municipio_codigo",
         "dtype": "int64",
         "stats": {
          "unique_count": 0,
          "nan_count": 0,
          "min": null,
          "max": null,
          "histogram": [
           {
            "bin_start": 0,
            "bin_end": 0.1,
            "count": 0
           },
           {
            "bin_start": 0.1,
            "bin_end": 0.2,
            "count": 0
           },
           {
            "bin_start": 0.2,
            "bin_end": 0.30000000000000004,
            "count": 0
           },
           {
            "bin_start": 0.30000000000000004,
            "bin_end": 0.4,
            "count": 0
           },
           {
            "bin_start": 0.4,
            "bin_end": 0.5,
            "count": 0
           },
           {
            "bin_start": 0.5,
            "bin_end": 0.6000000000000001,
            "count": 0
           },
           {
            "bin_start": 0.6000000000000001,
            "bin_end": 0.7000000000000001,
            "count": 0
           },
           {
            "bin_start": 0.7000000000000001,
            "bin_end": 0.8,
            "count": 0
           },
           {
            "bin_start": 0.8,
            "bin_end": 0.9,
            "count": 0
           },
           {
            "bin_start": 0.9,
            "bin_end": 1,
            "count": 0
           }
          ]
         }
        },
        {
         "name": "estabelecimento_municipio_nome",
         "dtype": "object",
         "stats": {
          "unique_count": 0,
          "nan_count": 0,
          "categories": []
         }
        },
        {
         "name": "estabelecimento_uf",
         "dtype": "object",
         "stats": {
          "unique_count": 0,
          "nan_count": 0,
          "categories": []
         }
        },
        {
         "name": "vacina_grupoatendimento_codigo",
         "dtype": "int64",
         "stats": {
          "unique_count": 0,
          "nan_count": 0,
          "min": null,
          "max": null,
          "histogram": [
           {
            "bin_start": 0,
            "bin_end": 0.1,
            "count": 0
           },
           {
            "bin_start": 0.1,
            "bin_end": 0.2,
            "count": 0
           },
           {
            "bin_start": 0.2,
            "bin_end": 0.30000000000000004,
            "count": 0
           },
           {
            "bin_start": 0.30000000000000004,
            "bin_end": 0.4,
            "count": 0
           },
           {
            "bin_start": 0.4,
            "bin_end": 0.5,
            "count": 0
           },
           {
            "bin_start": 0.5,
            "bin_end": 0.6000000000000001,
            "count": 0
           },
           {
            "bin_start": 0.6000000000000001,
            "bin_end": 0.7000000000000001,
            "count": 0
           },
           {
            "bin_start": 0.7000000000000001,
            "bin_end": 0.8,
            "count": 0
           },
           {
            "bin_start": 0.8,
            "bin_end": 0.9,
            "count": 0
           },
           {
            "bin_start": 0.9,
            "bin_end": 1,
            "count": 0
           }
          ]
         }
        },
        {
         "name": "vacina_grupoatendimento_nome",
         "dtype": "object",
         "stats": {
          "unique_count": 0,
          "nan_count": 0,
          "categories": []
         }
        },
        {
         "name": "vacina_categoria_codigo",
         "dtype": "float64",
         "stats": {
          "unique_count": 0,
          "nan_count": 0,
          "min": null,
          "max": null,
          "histogram": [
           {
            "bin_start": 0,
            "bin_end": 0.1,
            "count": 0
           },
           {
            "bin_start": 0.1,
            "bin_end": 0.2,
            "count": 0
           },
           {
            "bin_start": 0.2,
            "bin_end": 0.30000000000000004,
            "count": 0
           },
           {
            "bin_start": 0.30000000000000004,
            "bin_end": 0.4,
            "count": 0
           },
           {
            "bin_start": 0.4,
            "bin_end": 0.5,
            "count": 0
           },
           {
            "bin_start": 0.5,
            "bin_end": 0.6000000000000001,
            "count": 0
           },
           {
            "bin_start": 0.6000000000000001,
            "bin_end": 0.7000000000000001,
            "count": 0
           },
           {
            "bin_start": 0.7000000000000001,
            "bin_end": 0.8,
            "count": 0
           },
           {
            "bin_start": 0.8,
            "bin_end": 0.9,
            "count": 0
           },
           {
            "bin_start": 0.9,
            "bin_end": 1,
            "count": 0
           }
          ]
         }
        },
        {
         "name": "vacina_categoria_nome",
         "dtype": "object",
         "stats": {
          "unique_count": 0,
          "nan_count": 0,
          "categories": []
         }
        },
        {
         "name": "vacina_lote",
         "dtype": "object",
         "stats": {
          "unique_count": 0,
          "nan_count": 0,
          "categories": []
         }
        },
        {
         "name": "vacina_fabricante_nome",
         "dtype": "object",
         "stats": {
          "unique_count": 0,
          "nan_count": 0,
          "categories": []
         }
        },
        {
         "name": "vacina_fabricante_referencia",
         "dtype": "object",
         "stats": {
          "unique_count": 0,
          "nan_count": 0,
          "categories": []
         }
        },
        {
         "name": "vacina_dataaplicacao",
         "dtype": "object",
         "stats": {
          "unique_count": 0,
          "nan_count": 0,
          "categories": []
         }
        },
        {
         "name": "vacina_descricao_dose",
         "dtype": "object",
         "stats": {
          "unique_count": 0,
          "nan_count": 0,
          "categories": []
         }
        },
        {
         "name": "vacina_codigo",
         "dtype": "int64",
         "stats": {
          "unique_count": 0,
          "nan_count": 0,
          "min": null,
          "max": null,
          "histogram": [
           {
            "bin_start": 0,
            "bin_end": 0.1,
            "count": 0
           },
           {
            "bin_start": 0.1,
            "bin_end": 0.2,
            "count": 0
           },
           {
            "bin_start": 0.2,
            "bin_end": 0.30000000000000004,
            "count": 0
           },
           {
            "bin_start": 0.30000000000000004,
            "bin_end": 0.4,
            "count": 0
           },
           {
            "bin_start": 0.4,
            "bin_end": 0.5,
            "count": 0
           },
           {
            "bin_start": 0.5,
            "bin_end": 0.6000000000000001,
            "count": 0
           },
           {
            "bin_start": 0.6000000000000001,
            "bin_end": 0.7000000000000001,
            "count": 0
           },
           {
            "bin_start": 0.7000000000000001,
            "bin_end": 0.8,
            "count": 0
           },
           {
            "bin_start": 0.8,
            "bin_end": 0.9,
            "count": 0
           },
           {
            "bin_start": 0.9,
            "bin_end": 1,
            "count": 0
           }
          ]
         }
        },
        {
         "name": "vacina_nome",
         "dtype": "object",
         "stats": {
          "unique_count": 0,
          "nan_count": 0,
          "categories": []
         }
        },
        {
         "name": "sistema_origem",
         "dtype": "object",
         "stats": {
          "unique_count": 0,
          "nan_count": 0,
          "categories": []
         }
        },
        {
         "name": "data_importacao_rnds",
         "dtype": "object",
         "stats": {
          "unique_count": 0,
          "nan_count": 0,
          "categories": []
         }
        },
        {
         "name": "id_sistema_origem",
         "dtype": "int64",
         "stats": {
          "unique_count": 0,
          "nan_count": 0,
          "min": null,
          "max": null,
          "histogram": [
           {
            "bin_start": 0,
            "bin_end": 0.1,
            "count": 0
           },
           {
            "bin_start": 0.1,
            "bin_end": 0.2,
            "count": 0
           },
           {
            "bin_start": 0.2,
            "bin_end": 0.30000000000000004,
            "count": 0
           },
           {
            "bin_start": 0.30000000000000004,
            "bin_end": 0.4,
            "count": 0
           },
           {
            "bin_start": 0.4,
            "bin_end": 0.5,
            "count": 0
           },
           {
            "bin_start": 0.5,
            "bin_end": 0.6000000000000001,
            "count": 0
           },
           {
            "bin_start": 0.6000000000000001,
            "bin_end": 0.7000000000000001,
            "count": 0
           },
           {
            "bin_start": 0.7000000000000001,
            "bin_end": 0.8,
            "count": 0
           },
           {
            "bin_start": 0.8,
            "bin_end": 0.9,
            "count": 0
           },
           {
            "bin_start": 0.9,
            "bin_end": 1,
            "count": 0
           }
          ]
         }
        },
        {
         "name": "_deepnote_index_column",
         "dtype": "int64"
        }
       ],
       "rows_top": [],
       "rows_bottom": null
      },
      "text/plain": "Empty DataFrame\nColumns: [document_id, paciente_id, paciente_idade, paciente_datanascimento, paciente_enumsexobiologico, paciente_racacor_codigo, paciente_racacor_valor, paciente_endereco_coibgemunicipio, paciente_endereco_copais, paciente_endereco_nmmunicipio, paciente_endereco_nmpais, paciente_endereco_uf, paciente_endereco_cep, paciente_nacionalidade_enumnacionalidade, estabelecimento_valor, estabelecimento_razaosocial, estalecimento_nofantasia, estabelecimento_municipio_codigo, estabelecimento_municipio_nome, estabelecimento_uf, vacina_grupoatendimento_codigo, vacina_grupoatendimento_nome, vacina_categoria_codigo, vacina_categoria_nome, vacina_lote, vacina_fabricante_nome, vacina_fabricante_referencia, vacina_dataaplicacao, vacina_descricao_dose, vacina_codigo, vacina_nome, sistema_origem, data_importacao_rnds, id_sistema_origem]\nIndex: []\n\n[0 rows x 34 columns]",
      "text/html": "<div>\n<style scoped>\n    .dataframe tbody tr th:only-of-type {\n        vertical-align: middle;\n    }\n\n    .dataframe tbody tr th {\n        vertical-align: top;\n    }\n\n    .dataframe thead th {\n        text-align: right;\n    }\n</style>\n<table border=\"1\" class=\"dataframe\">\n  <thead>\n    <tr style=\"text-align: right;\">\n      <th></th>\n      <th>document_id</th>\n      <th>paciente_id</th>\n      <th>paciente_idade</th>\n      <th>paciente_datanascimento</th>\n      <th>paciente_enumsexobiologico</th>\n      <th>paciente_racacor_codigo</th>\n      <th>paciente_racacor_valor</th>\n      <th>paciente_endereco_coibgemunicipio</th>\n      <th>paciente_endereco_copais</th>\n      <th>paciente_endereco_nmmunicipio</th>\n      <th>...</th>\n      <th>vacina_lote</th>\n      <th>vacina_fabricante_nome</th>\n      <th>vacina_fabricante_referencia</th>\n      <th>vacina_dataaplicacao</th>\n      <th>vacina_descricao_dose</th>\n      <th>vacina_codigo</th>\n      <th>vacina_nome</th>\n      <th>sistema_origem</th>\n      <th>data_importacao_rnds</th>\n      <th>id_sistema_origem</th>\n    </tr>\n  </thead>\n  <tbody>\n  </tbody>\n</table>\n<p>0 rows × 34 columns</p>\n</div>"
     },
     "metadata": {}
    }
   ],
   "execution_count": null
  },
  {
   "cell_type": "code",
   "metadata": {
    "tags": [],
    "cell_id": "00016-00ff111c-379c-4b32-a9a2-d92f4583e9b0",
    "deepnote_to_be_reexecuted": false,
    "source_hash": "e9d7f0ca",
    "execution_start": 1635685933529,
    "execution_millis": 2042,
    "deepnote_cell_type": "code"
   },
   "source": "import datetime as dt\n\ndef str_to_date(data_string):\n    ano_mes_dia=data_string.split(sep='-')\n    return dt.date(int(ano_mes_dia[0]),int(ano_mes_dia[1]),int(ano_mes_dia[2]))\n\ndatas_df = df['vacina_dataaplicacao'].apply(str_to_date)\nfiltro = datas_df <= dt.date(2021,10,16)\nnum=datas_df.loc[filtro].shape[0]\n\nprint(f\"{num} vacinas foram aplicadas antes do dia 16/10/2021\")",
   "outputs": [
    {
     "name": "stdout",
     "text": "884309 vacinas foram aplicadas antes do dia 16/10/2021\n",
     "output_type": "stream"
    }
   ],
   "execution_count": null
  },
  {
   "cell_type": "code",
   "metadata": {
    "tags": [],
    "cell_id": "00018-d011fed7-380f-4846-829d-bc83e35d9d03",
    "deepnote_to_be_reexecuted": false,
    "source_hash": "2c5669fa",
    "execution_start": 1635685935575,
    "execution_millis": 3079,
    "deepnote_cell_type": "code"
   },
   "source": "df['data']=df['vacina_dataaplicacao'].apply(str_to_date)\n\nkeys=df['vacina_descricao_dose'].drop_duplicates().values\nprint(keys)",
   "outputs": [
    {
     "name": "stdout",
     "text": "['1ª Dose' '2ª Dose' 'Dose' '2ª\\xa0Dose' 'Dose\\xa0Adicional\\xa0'\n 'Reforço\\xa0' '1ª\\xa0Dose' 'Reforço' 'Dose\\xa0' 'Dose Adicional']\n",
     "output_type": "stream"
    }
   ],
   "execution_count": null
  },
  {
   "cell_type": "code",
   "metadata": {
    "tags": [],
    "cell_id": "00019-35dcf0f4-371d-494a-9e2f-d91be952dbfc",
    "deepnote_to_be_reexecuted": false,
    "source_hash": "2b6883fe",
    "execution_start": 1635685938670,
    "execution_millis": 1852,
    "deepnote_cell_type": "code"
   },
   "source": "num2=df.loc[(df['data']<=dt.date(2021,10,16)) & ((df['vacina_descricao_dose']==keys[0]) | (df['vacina_descricao_dose']==keys[6]))].shape[0]\nnum3=df.loc[(df['data']<=dt.date(2021,10,16)) & ((df['vacina_descricao_dose']==keys[1]) | (df['vacina_descricao_dose']==keys[3]))].shape[0]\nnum4=df.loc[(df['data']<=dt.date(2021,10,16)) & ((df['vacina_descricao_dose']==keys[4]) | (df['vacina_descricao_dose']==keys[5]) | (df['vacina_descricao_dose']==keys[7]) | (df['vacina_descricao_dose']==keys[9]))].shape[0]\nprint(f\"{num2} 1ª dose, {num3} 2ª dose e {num4} reforços\")",
   "outputs": [
    {
     "name": "stdout",
     "text": "542614 1ª dose, 325569 2ª dose e 4038 reforços\n",
     "output_type": "stream"
    }
   ],
   "execution_count": null
  },
  {
   "cell_type": "markdown",
   "source": "#### Noticia 2:\nCruzeiro do Sul até o dia 29/07/2021 aplicou:\n- 59.707 vacinas\n- - 44.082 primeira dose\n- - 13.887 segunda dose\n- - 738 dose única\n- Vacinação de Adolescentes começou no dia 31/07/2021",
   "metadata": {
    "tags": [],
    "cell_id": "00020-40c8c96e-d3c1-4783-949d-cb74efa6bb24",
    "deepnote_cell_type": "markdown"
   }
  },
  {
   "cell_type": "code",
   "metadata": {
    "tags": [],
    "cell_id": "00021-b3ae515c-720f-4d26-99fa-ad9b6bd29427",
    "deepnote_to_be_reexecuted": false,
    "source_hash": "c085b6ba",
    "execution_start": 1635685940524,
    "execution_millis": 127,
    "deepnote_cell_type": "code"
   },
   "source": "df.head()",
   "outputs": [
    {
     "output_type": "execute_result",
     "execution_count": 12,
     "data": {
      "application/vnd.deepnote.dataframe.v2+json": {
       "row_count": 5,
       "column_count": 35,
       "columns": [
        {
         "name": "document_id",
         "dtype": "object",
         "stats": {
          "unique_count": 5,
          "nan_count": 0,
          "categories": [
           {
            "name": "0c6be3a6-36df-4973-a85d-7ff77c15148f-i0b0",
            "count": 1
           },
           {
            "name": "35361c96-c780-4033-bd60-210dec29167a-i0b0",
            "count": 1
           },
           {
            "name": "3 others",
            "count": 3
           }
          ]
         }
        },
        {
         "name": "paciente_id",
         "dtype": "object",
         "stats": {
          "unique_count": 5,
          "nan_count": 0,
          "categories": [
           {
            "name": "7c71545e1690795de7a5c2e03879640b182ac13d575d9e52e7fa19da5b642748",
            "count": 1
           },
           {
            "name": "b3d5628ff71e1ecb3804a37f7f03caae5a6ac6802162d1697d27241e8c7a8f01",
            "count": 1
           },
           {
            "name": "3 others",
            "count": 3
           }
          ]
         }
        },
        {
         "name": "paciente_idade",
         "dtype": "int64",
         "stats": {
          "unique_count": 5,
          "nan_count": 0,
          "min": "20",
          "max": "57",
          "histogram": [
           {
            "bin_start": 20,
            "bin_end": 23.7,
            "count": 2
           },
           {
            "bin_start": 23.7,
            "bin_end": 27.4,
            "count": 0
           },
           {
            "bin_start": 27.4,
            "bin_end": 31.1,
            "count": 0
           },
           {
            "bin_start": 31.1,
            "bin_end": 34.8,
            "count": 0
           },
           {
            "bin_start": 34.8,
            "bin_end": 38.5,
            "count": 1
           },
           {
            "bin_start": 38.5,
            "bin_end": 42.2,
            "count": 0
           },
           {
            "bin_start": 42.2,
            "bin_end": 45.900000000000006,
            "count": 0
           },
           {
            "bin_start": 45.900000000000006,
            "bin_end": 49.6,
            "count": 1
           },
           {
            "bin_start": 49.6,
            "bin_end": 53.300000000000004,
            "count": 0
           },
           {
            "bin_start": 53.300000000000004,
            "bin_end": 57,
            "count": 1
           }
          ]
         }
        },
        {
         "name": "paciente_datanascimento",
         "dtype": "object",
         "stats": {
          "unique_count": 5,
          "nan_count": 0,
          "categories": [
           {
            "name": "1974-07-25",
            "count": 1
           },
           {
            "name": "2000-12-03",
            "count": 1
           },
           {
            "name": "3 others",
            "count": 3
           }
          ]
         }
        },
        {
         "name": "paciente_enumsexobiologico",
         "dtype": "object",
         "stats": {
          "unique_count": 2,
          "nan_count": 0,
          "categories": [
           {
            "name": "M",
            "count": 3
           },
           {
            "name": "F",
            "count": 2
           }
          ]
         }
        },
        {
         "name": "paciente_racacor_codigo",
         "dtype": "int64",
         "stats": {
          "unique_count": 3,
          "nan_count": 0,
          "min": "3",
          "max": "5",
          "histogram": [
           {
            "bin_start": 3,
            "bin_end": 3.2,
            "count": 3
           },
           {
            "bin_start": 3.2,
            "bin_end": 3.4,
            "count": 0
           },
           {
            "bin_start": 3.4,
            "bin_end": 3.6,
            "count": 0
           },
           {
            "bin_start": 3.6,
            "bin_end": 3.8,
            "count": 0
           },
           {
            "bin_start": 3.8,
            "bin_end": 4,
            "count": 0
           },
           {
            "bin_start": 4,
            "bin_end": 4.2,
            "count": 1
           },
           {
            "bin_start": 4.2,
            "bin_end": 4.4,
            "count": 0
           },
           {
            "bin_start": 4.4,
            "bin_end": 4.6,
            "count": 0
           },
           {
            "bin_start": 4.6,
            "bin_end": 4.8,
            "count": 0
           },
           {
            "bin_start": 4.8,
            "bin_end": 5,
            "count": 1
           }
          ]
         }
        },
        {
         "name": "paciente_racacor_valor",
         "dtype": "object",
         "stats": {
          "unique_count": 3,
          "nan_count": 0,
          "categories": [
           {
            "name": "PARDA",
            "count": 3
           },
           {
            "name": "INDIGENA",
            "count": 1
           },
           {
            "name": "AMARELA",
            "count": 1
           }
          ]
         }
        },
        {
         "name": "paciente_endereco_coibgemunicipio",
         "dtype": "float64",
         "stats": {
          "unique_count": 4,
          "nan_count": 0,
          "min": "120020.0",
          "max": "120045.0",
          "histogram": [
           {
            "bin_start": 120020,
            "bin_end": 120022.5,
            "count": 1
           },
           {
            "bin_start": 120022.5,
            "bin_end": 120025,
            "count": 0
           },
           {
            "bin_start": 120025,
            "bin_end": 120027.5,
            "count": 0
           },
           {
            "bin_start": 120027.5,
            "bin_end": 120030,
            "count": 0
           },
           {
            "bin_start": 120030,
            "bin_end": 120032.5,
            "count": 0
           },
           {
            "bin_start": 120032.5,
            "bin_end": 120035,
            "count": 0
           },
           {
            "bin_start": 120035,
            "bin_end": 120037.5,
            "count": 1
           },
           {
            "bin_start": 120037.5,
            "bin_end": 120040,
            "count": 0
           },
           {
            "bin_start": 120040,
            "bin_end": 120042.5,
            "count": 2
           },
           {
            "bin_start": 120042.5,
            "bin_end": 120045,
            "count": 1
           }
          ]
         }
        },
        {
         "name": "paciente_endereco_copais",
         "dtype": "float64",
         "stats": {
          "unique_count": 1,
          "nan_count": 0,
          "min": "10.0",
          "max": "10.0",
          "histogram": [
           {
            "bin_start": 9.5,
            "bin_end": 9.6,
            "count": 0
           },
           {
            "bin_start": 9.6,
            "bin_end": 9.7,
            "count": 0
           },
           {
            "bin_start": 9.7,
            "bin_end": 9.8,
            "count": 0
           },
           {
            "bin_start": 9.8,
            "bin_end": 9.9,
            "count": 0
           },
           {
            "bin_start": 9.9,
            "bin_end": 10,
            "count": 0
           },
           {
            "bin_start": 10,
            "bin_end": 10.1,
            "count": 5
           },
           {
            "bin_start": 10.1,
            "bin_end": 10.2,
            "count": 0
           },
           {
            "bin_start": 10.2,
            "bin_end": 10.3,
            "count": 0
           },
           {
            "bin_start": 10.3,
            "bin_end": 10.4,
            "count": 0
           },
           {
            "bin_start": 10.4,
            "bin_end": 10.5,
            "count": 0
           }
          ]
         }
        },
        {
         "name": "paciente_endereco_nmmunicipio",
         "dtype": "object",
         "stats": {
          "unique_count": 4,
          "nan_count": 0,
          "categories": [
           {
            "name": "RIO BRANCO",
            "count": 2
           },
           {
            "name": "SENADOR GUIOMARD",
            "count": 1
           },
           {
            "name": "2 others",
            "count": 2
           }
          ]
         }
        },
        {
         "name": "paciente_endereco_nmpais",
         "dtype": "object",
         "stats": {
          "unique_count": 1,
          "nan_count": 0,
          "categories": [
           {
            "name": "BRASIL",
            "count": 5
           }
          ]
         }
        },
        {
         "name": "paciente_endereco_uf",
         "dtype": "object",
         "stats": {
          "unique_count": 1,
          "nan_count": 0,
          "categories": [
           {
            "name": "AC",
            "count": 5
           }
          ]
         }
        },
        {
         "name": "paciente_endereco_cep",
         "dtype": "float64",
         "stats": {
          "unique_count": 4,
          "nan_count": 0,
          "min": "69902.0",
          "max": "69980.0",
          "histogram": [
           {
            "bin_start": 69902,
            "bin_end": 69909.8,
            "count": 1
           },
           {
            "bin_start": 69909.8,
            "bin_end": 69917.6,
            "count": 0
           },
           {
            "bin_start": 69917.6,
            "bin_end": 69925.4,
            "count": 2
           },
           {
            "bin_start": 69925.4,
            "bin_end": 69933.2,
            "count": 0
           },
           {
            "bin_start": 69933.2,
            "bin_end": 69941,
            "count": 0
           },
           {
            "bin_start": 69941,
            "bin_end": 69948.8,
            "count": 0
           },
           {
            "bin_start": 69948.8,
            "bin_end": 69956.6,
            "count": 0
           },
           {
            "bin_start": 69956.6,
            "bin_end": 69964.4,
            "count": 0
           },
           {
            "bin_start": 69964.4,
            "bin_end": 69972.2,
            "count": 0
           },
           {
            "bin_start": 69972.2,
            "bin_end": 69980,
            "count": 2
           }
          ]
         }
        },
        {
         "name": "paciente_nacionalidade_enumnacionalidade",
         "dtype": "object",
         "stats": {
          "unique_count": 1,
          "nan_count": 0,
          "categories": [
           {
            "name": "B",
            "count": 5
           }
          ]
         }
        },
        {
         "name": "estabelecimento_valor",
         "dtype": "int64",
         "stats": {
          "unique_count": 4,
          "nan_count": 0,
          "min": "2000660",
          "max": "7625855",
          "histogram": [
           {
            "bin_start": 2000660,
            "bin_end": 2563179.5,
            "count": 1
           },
           {
            "bin_start": 2563179.5,
            "bin_end": 3125699,
            "count": 0
           },
           {
            "bin_start": 3125699,
            "bin_end": 3688218.5,
            "count": 0
           },
           {
            "bin_start": 3688218.5,
            "bin_end": 4250738,
            "count": 0
           },
           {
            "bin_start": 4250738,
            "bin_end": 4813257.5,
            "count": 0
           },
           {
            "bin_start": 4813257.5,
            "bin_end": 5375777,
            "count": 0
           },
           {
            "bin_start": 5375777,
            "bin_end": 5938296.5,
            "count": 0
           },
           {
            "bin_start": 5938296.5,
            "bin_end": 6500816,
            "count": 1
           },
           {
            "bin_start": 6500816,
            "bin_end": 7063335.5,
            "count": 2
           },
           {
            "bin_start": 7063335.5,
            "bin_end": 7625855,
            "count": 1
           }
          ]
         }
        },
        {
         "name": "estabelecimento_razaosocial",
         "dtype": "object",
         "stats": {
          "unique_count": 4,
          "nan_count": 0,
          "categories": [
           {
            "name": "PREFEITURA MUNICIPAL DE RIO BRANCO",
            "count": 2
           },
           {
            "name": "PREFEITURA MUNICIPAL DE SENADOR GUIOMARD",
            "count": 1
           },
           {
            "name": "2 others",
            "count": 2
           }
          ]
         }
        },
        {
         "name": "estalecimento_nofantasia",
         "dtype": "object",
         "stats": {
          "unique_count": 4,
          "nan_count": 0,
          "categories": [
           {
            "name": "DEPARTAMENTO DE VIGILANCIA EPIDEMIOLOGICA E AMBIENTAL",
            "count": 2
           },
           {
            "name": "CENTRO DE SAUDE MARIA DO SOCORRO CAVALCANTE",
            "count": 1
           },
           {
            "name": "2 others",
            "count": 2
           }
          ]
         }
        },
        {
         "name": "estabelecimento_municipio_codigo",
         "dtype": "int64",
         "stats": {
          "unique_count": 4,
          "nan_count": 0,
          "min": "120020",
          "max": "120045",
          "histogram": [
           {
            "bin_start": 120020,
            "bin_end": 120022.5,
            "count": 1
           },
           {
            "bin_start": 120022.5,
            "bin_end": 120025,
            "count": 0
           },
           {
            "bin_start": 120025,
            "bin_end": 120027.5,
            "count": 0
           },
           {
            "bin_start": 120027.5,
            "bin_end": 120030,
            "count": 0
           },
           {
            "bin_start": 120030,
            "bin_end": 120032.5,
            "count": 0
           },
           {
            "bin_start": 120032.5,
            "bin_end": 120035,
            "count": 0
           },
           {
            "bin_start": 120035,
            "bin_end": 120037.5,
            "count": 1
           },
           {
            "bin_start": 120037.5,
            "bin_end": 120040,
            "count": 0
           },
           {
            "bin_start": 120040,
            "bin_end": 120042.5,
            "count": 2
           },
           {
            "bin_start": 120042.5,
            "bin_end": 120045,
            "count": 1
           }
          ]
         }
        },
        {
         "name": "estabelecimento_municipio_nome",
         "dtype": "object",
         "stats": {
          "unique_count": 4,
          "nan_count": 0,
          "categories": [
           {
            "name": "RIO BRANCO",
            "count": 2
           },
           {
            "name": "SENADOR GUIOMARD",
            "count": 1
           },
           {
            "name": "2 others",
            "count": 2
           }
          ]
         }
        },
        {
         "name": "estabelecimento_uf",
         "dtype": "object",
         "stats": {
          "unique_count": 1,
          "nan_count": 0,
          "categories": [
           {
            "name": "AC",
            "count": 5
           }
          ]
         }
        },
        {
         "name": "vacina_grupoatendimento_codigo",
         "dtype": "int64",
         "stats": {
          "unique_count": 5,
          "nan_count": 0,
          "min": "103",
          "max": "802",
          "histogram": [
           {
            "bin_start": 103,
            "bin_end": 172.9,
            "count": 2
           },
           {
            "bin_start": 172.9,
            "bin_end": 242.8,
            "count": 1
           },
           {
            "bin_start": 242.8,
            "bin_end": 312.70000000000005,
            "count": 0
           },
           {
            "bin_start": 312.70000000000005,
            "bin_end": 382.6,
            "count": 0
           },
           {
            "bin_start": 382.6,
            "bin_end": 452.5,
            "count": 0
           },
           {
            "bin_start": 452.5,
            "bin_end": 522.4000000000001,
            "count": 0
           },
           {
            "bin_start": 522.4000000000001,
            "bin_end": 592.3000000000001,
            "count": 0
           },
           {
            "bin_start": 592.3000000000001,
            "bin_end": 662.2,
            "count": 0
           },
           {
            "bin_start": 662.2,
            "bin_end": 732.1,
            "count": 1
           },
           {
            "bin_start": 732.1,
            "bin_end": 802,
            "count": 1
           }
          ]
         }
        },
        {
         "name": "vacina_grupoatendimento_nome",
         "dtype": "object",
         "stats": {
          "unique_count": 5,
          "nan_count": 0,
          "categories": [
           {
            "name": "Hipertensão de difícil controle ou com complicações/lesão de órgão alvo",
            "count": 1
           },
           {
            "name": "Pessoas de 18 a 64 anos",
            "count": 1
           },
           {
            "name": "3 others",
            "count": 3
           }
          ]
         }
        },
        {
         "name": "vacina_categoria_codigo",
         "dtype": "float64",
         "stats": {
          "unique_count": 4,
          "nan_count": 0,
          "min": "1.0",
          "max": "8.0",
          "histogram": [
           {
            "bin_start": 1,
            "bin_end": 1.7,
            "count": 2
           },
           {
            "bin_start": 1.7,
            "bin_end": 2.4,
            "count": 1
           },
           {
            "bin_start": 2.4,
            "bin_end": 3.0999999999999996,
            "count": 0
           },
           {
            "bin_start": 3.0999999999999996,
            "bin_end": 3.8,
            "count": 0
           },
           {
            "bin_start": 3.8,
            "bin_end": 4.5,
            "count": 0
           },
           {
            "bin_start": 4.5,
            "bin_end": 5.199999999999999,
            "count": 0
           },
           {
            "bin_start": 5.199999999999999,
            "bin_end": 5.8999999999999995,
            "count": 0
           },
           {
            "bin_start": 5.8999999999999995,
            "bin_end": 6.6,
            "count": 0
           },
           {
            "bin_start": 6.6,
            "bin_end": 7.3,
            "count": 1
           },
           {
            "bin_start": 7.3,
            "bin_end": 8,
            "count": 1
           }
          ]
         }
        },
        {
         "name": "vacina_categoria_nome",
         "dtype": "object",
         "stats": {
          "unique_count": 4,
          "nan_count": 0,
          "categories": [
           {
            "name": "Comorbidades",
            "count": 2
           },
           {
            "name": "Faixa Etária",
            "count": 1
           },
           {
            "name": "2 others",
            "count": 2
           }
          ]
         }
        },
        {
         "name": "vacina_lote",
         "dtype": "object",
         "stats": {
          "unique_count": 3,
          "nan_count": 0,
          "categories": [
           {
            "name": "213VCD042Z",
            "count": 3
           },
           {
            "name": "FA9096",
            "count": 1
           },
           {
            "name": "202010028",
            "count": 1
           }
          ]
         }
        },
        {
         "name": "vacina_fabricante_nome",
         "dtype": "object",
         "stats": {
          "unique_count": 3,
          "nan_count": 0,
          "categories": [
           {
            "name": "ASTRAZENECA/FIOCRUZ",
            "count": 3
           },
           {
            "name": "PFIZER",
            "count": 1
           },
           {
            "name": "SINOVAC/BUTANTAN",
            "count": 1
           }
          ]
         }
        },
        {
         "name": "vacina_fabricante_referencia",
         "dtype": "object",
         "stats": {
          "unique_count": 3,
          "nan_count": 0,
          "categories": [
           {
            "name": "Organization/33781055000135",
            "count": 3
           },
           {
            "name": "Organization/00394544000851",
            "count": 1
           },
           {
            "name": "Organization/61189445000156",
            "count": 1
           }
          ]
         }
        },
        {
         "name": "vacina_dataaplicacao",
         "dtype": "object",
         "stats": {
          "unique_count": 5,
          "nan_count": 0,
          "categories": [
           {
            "name": "2021-05-12",
            "count": 1
           },
           {
            "name": "2021-07-27",
            "count": 1
           },
           {
            "name": "3 others",
            "count": 3
           }
          ]
         }
        },
        {
         "name": "vacina_descricao_dose",
         "dtype": "object",
         "stats": {
          "unique_count": 1,
          "nan_count": 0,
          "categories": [
           {
            "name": "1ª Dose",
            "count": 5
           }
          ]
         }
        },
        {
         "name": "vacina_codigo",
         "dtype": "int64",
         "stats": {
          "unique_count": 3,
          "nan_count": 0,
          "min": "85",
          "max": "87",
          "histogram": [
           {
            "bin_start": 85,
            "bin_end": 85.2,
            "count": 3
           },
           {
            "bin_start": 85.2,
            "bin_end": 85.4,
            "count": 0
           },
           {
            "bin_start": 85.4,
            "bin_end": 85.6,
            "count": 0
           },
           {
            "bin_start": 85.6,
            "bin_end": 85.8,
            "count": 0
           },
           {
            "bin_start": 85.8,
            "bin_end": 86,
            "count": 0
           },
           {
            "bin_start": 86,
            "bin_end": 86.2,
            "count": 1
           },
           {
            "bin_start": 86.2,
            "bin_end": 86.4,
            "count": 0
           },
           {
            "bin_start": 86.4,
            "bin_end": 86.6,
            "count": 0
           },
           {
            "bin_start": 86.6,
            "bin_end": 86.8,
            "count": 0
           },
           {
            "bin_start": 86.8,
            "bin_end": 87,
            "count": 1
           }
          ]
         }
        },
        {
         "name": "vacina_nome",
         "dtype": "object",
         "stats": {
          "unique_count": 3,
          "nan_count": 0,
          "categories": [
           {
            "name": "COVID-19 ASTRAZENECA/FIOCRUZ - COVISHIELD",
            "count": 3
           },
           {
            "name": "COVID-19 PFIZER - COMIRNATY",
            "count": 1
           },
           {
            "name": "COVID-19 SINOVAC/BUTANTAN - CORONAVAC",
            "count": 1
           }
          ]
         }
        },
        {
         "name": "sistema_origem",
         "dtype": "object",
         "stats": {
          "unique_count": 1,
          "nan_count": 0,
          "categories": [
           {
            "name": "Novo PNI",
            "count": 5
           }
          ]
         }
        },
        {
         "name": "data_importacao_rnds",
         "dtype": "object",
         "stats": {
          "unique_count": 5,
          "nan_count": 0,
          "categories": [
           {
            "name": "2021-05-19T15:34:42.000Z",
            "count": 1
           },
           {
            "name": "2021-08-01T14:20:03.000Z",
            "count": 1
           },
           {
            "name": "3 others",
            "count": 3
           }
          ]
         }
        },
        {
         "name": "id_sistema_origem",
         "dtype": "int64",
         "stats": {
          "unique_count": 1,
          "nan_count": 0,
          "min": "16341",
          "max": "16341",
          "histogram": [
           {
            "bin_start": 16340.5,
            "bin_end": 16340.6,
            "count": 0
           },
           {
            "bin_start": 16340.6,
            "bin_end": 16340.7,
            "count": 0
           },
           {
            "bin_start": 16340.7,
            "bin_end": 16340.8,
            "count": 0
           },
           {
            "bin_start": 16340.8,
            "bin_end": 16340.9,
            "count": 0
           },
           {
            "bin_start": 16340.9,
            "bin_end": 16341,
            "count": 0
           },
           {
            "bin_start": 16341,
            "bin_end": 16341.1,
            "count": 5
           },
           {
            "bin_start": 16341.1,
            "bin_end": 16341.2,
            "count": 0
           },
           {
            "bin_start": 16341.2,
            "bin_end": 16341.3,
            "count": 0
           },
           {
            "bin_start": 16341.3,
            "bin_end": 16341.4,
            "count": 0
           },
           {
            "bin_start": 16341.4,
            "bin_end": 16341.5,
            "count": 0
           }
          ]
         }
        },
        {
         "name": "data",
         "dtype": "object",
         "stats": {
          "unique_count": 5,
          "nan_count": 0,
          "categories": [
           {
            "name": "2021-05-12",
            "count": 1
           },
           {
            "name": "2021-07-27",
            "count": 1
           },
           {
            "name": "3 others",
            "count": 3
           }
          ]
         }
        },
        {
         "name": "_deepnote_index_column",
         "dtype": "int64"
        }
       ],
       "rows_top": [
        {
         "document_id": "0c6be3a6-36df-4973-a85d-7ff77c15148f-i0b0",
         "paciente_id": "7c71545e1690795de7a5c2e03879640b182ac13d575d9e52e7fa19da5b642748",
         "paciente_idade": 46,
         "paciente_datanascimento": "1974-07-25",
         "paciente_enumsexobiologico": "F",
         "paciente_racacor_codigo": 3,
         "paciente_racacor_valor": "PARDA",
         "paciente_endereco_coibgemunicipio": 120045,
         "paciente_endereco_copais": 10,
         "paciente_endereco_nmmunicipio": "SENADOR GUIOMARD",
         "paciente_endereco_nmpais": "BRASIL",
         "paciente_endereco_uf": "AC",
         "paciente_endereco_cep": 69925,
         "paciente_nacionalidade_enumnacionalidade": "B",
         "estabelecimento_valor": 2000660,
         "estabelecimento_razaosocial": "PREFEITURA MUNICIPAL DE SENADOR GUIOMARD",
         "estalecimento_nofantasia": "CENTRO DE SAUDE MARIA DO SOCORRO CAVALCANTE",
         "estabelecimento_municipio_codigo": 120045,
         "estabelecimento_municipio_nome": "SENADOR GUIOMARD",
         "estabelecimento_uf": "AC",
         "vacina_grupoatendimento_codigo": 107,
         "vacina_grupoatendimento_nome": "Hipertensão de difícil controle ou com complicações/lesão de órgão alvo",
         "vacina_categoria_codigo": 1,
         "vacina_categoria_nome": "Comorbidades",
         "vacina_lote": "213VCD042Z",
         "vacina_fabricante_nome": "ASTRAZENECA/FIOCRUZ",
         "vacina_fabricante_referencia": "Organization/33781055000135",
         "vacina_dataaplicacao": "2021-05-12",
         "vacina_descricao_dose": "1ª Dose",
         "vacina_codigo": 85,
         "vacina_nome": "COVID-19 ASTRAZENECA/FIOCRUZ - COVISHIELD",
         "sistema_origem": "Novo PNI",
         "data_importacao_rnds": "2021-05-19T15:34:42.000Z",
         "id_sistema_origem": 16341,
         "data": "2021-05-12",
         "_deepnote_index_column": 0
        },
        {
         "document_id": "35361c96-c780-4033-bd60-210dec29167a-i0b0",
         "paciente_id": "b3d5628ff71e1ecb3804a37f7f03caae5a6ac6802162d1697d27241e8c7a8f01",
         "paciente_idade": 20,
         "paciente_datanascimento": "2000-12-03",
         "paciente_enumsexobiologico": "F",
         "paciente_racacor_codigo": 3,
         "paciente_racacor_valor": "PARDA",
         "paciente_endereco_coibgemunicipio": 120040,
         "paciente_endereco_copais": 10,
         "paciente_endereco_nmmunicipio": "RIO BRANCO",
         "paciente_endereco_nmpais": "BRASIL",
         "paciente_endereco_uf": "AC",
         "paciente_endereco_cep": 69923,
         "paciente_nacionalidade_enumnacionalidade": "B",
         "estabelecimento_valor": 6917291,
         "estabelecimento_razaosocial": "PREFEITURA MUNICIPAL DE RIO BRANCO",
         "estalecimento_nofantasia": "DEPARTAMENTO DE VIGILANCIA EPIDEMIOLOGICA E AMBIENTAL",
         "estabelecimento_municipio_codigo": 120040,
         "estabelecimento_municipio_nome": "RIO BRANCO",
         "estabelecimento_uf": "AC",
         "vacina_grupoatendimento_codigo": 201,
         "vacina_grupoatendimento_nome": "Pessoas de 18 a 64 anos",
         "vacina_categoria_codigo": 2,
         "vacina_categoria_nome": "Faixa Etária",
         "vacina_lote": "FA9096",
         "vacina_fabricante_nome": "PFIZER",
         "vacina_fabricante_referencia": "Organization/00394544000851",
         "vacina_dataaplicacao": "2021-07-27",
         "vacina_descricao_dose": "1ª Dose",
         "vacina_codigo": 87,
         "vacina_nome": "COVID-19 PFIZER - COMIRNATY",
         "sistema_origem": "Novo PNI",
         "data_importacao_rnds": "2021-08-01T14:20:03.000Z",
         "id_sistema_origem": 16341,
         "data": "2021-07-27",
         "_deepnote_index_column": 1
        },
        {
         "document_id": "43095ed8-c90e-47c9-ba10-5392e12b1b1b-i0b0",
         "paciente_id": "f72004f5fb31cce6d140efd4592ada58cf81b13417288ee4b84d953ecdac2376",
         "paciente_idade": 22,
         "paciente_datanascimento": "1998-12-10",
         "paciente_enumsexobiologico": "M",
         "paciente_racacor_codigo": 5,
         "paciente_racacor_valor": "INDIGENA",
         "paciente_endereco_coibgemunicipio": 120035,
         "paciente_endereco_copais": 10,
         "paciente_endereco_nmmunicipio": "MARECHAL THAUMATURGO",
         "paciente_endereco_nmpais": "BRASIL",
         "paciente_endereco_uf": "AC",
         "paciente_endereco_cep": 69980,
         "paciente_nacionalidade_enumnacionalidade": "B",
         "estabelecimento_valor": 7625855,
         "estabelecimento_razaosocial": "DISTRITO SANITARIO ESPECIAL INDIGENA ALTO RIO JURUA",
         "estalecimento_nofantasia": "POLO BASE DE MARECHAL THAUMATURGO",
         "estabelecimento_municipio_codigo": 120035,
         "estabelecimento_municipio_nome": "MARECHAL THAUMATURGO",
         "estabelecimento_uf": "AC",
         "vacina_grupoatendimento_codigo": 701,
         "vacina_grupoatendimento_nome": "Povos indígenas em terras indígenas",
         "vacina_categoria_codigo": 7,
         "vacina_categoria_nome": "Povos Indígenas",
         "vacina_lote": "202010028",
         "vacina_fabricante_nome": "SINOVAC/BUTANTAN",
         "vacina_fabricante_referencia": "Organization/61189445000156",
         "vacina_dataaplicacao": "2021-02-25",
         "vacina_descricao_dose": "1ª Dose",
         "vacina_codigo": 86,
         "vacina_nome": "COVID-19 SINOVAC/BUTANTAN - CORONAVAC",
         "sistema_origem": "Novo PNI",
         "data_importacao_rnds": "2021-03-10T19:43:54.000Z",
         "id_sistema_origem": 16341,
         "data": "2021-02-25",
         "_deepnote_index_column": 2
        },
        {
         "document_id": "4f58867c-e3e1-4b79-81a5-d43b2c5770b0-i0b0",
         "paciente_id": "b455c80f80546eb43d229a0d32073798840a16aa453c673fe660653aa71e5945",
         "paciente_idade": 37,
         "paciente_datanascimento": "1983-07-03",
         "paciente_enumsexobiologico": "M",
         "paciente_racacor_codigo": 3,
         "paciente_racacor_valor": "PARDA",
         "paciente_endereco_coibgemunicipio": 120040,
         "paciente_endereco_copais": 10,
         "paciente_endereco_nmmunicipio": "RIO BRANCO",
         "paciente_endereco_nmpais": "BRASIL",
         "paciente_endereco_uf": "AC",
         "paciente_endereco_cep": 69902,
         "paciente_nacionalidade_enumnacionalidade": "B",
         "estabelecimento_valor": 6917291,
         "estabelecimento_razaosocial": "PREFEITURA MUNICIPAL DE RIO BRANCO",
         "estalecimento_nofantasia": "DEPARTAMENTO DE VIGILANCIA EPIDEMIOLOGICA E AMBIENTAL",
         "estabelecimento_municipio_codigo": 120040,
         "estabelecimento_municipio_nome": "RIO BRANCO",
         "estabelecimento_uf": "AC",
         "vacina_grupoatendimento_codigo": 802,
         "vacina_grupoatendimento_nome": "Ensino Superior",
         "vacina_categoria_codigo": 8,
         "vacina_categoria_nome": "Trabalhadores da Educação",
         "vacina_lote": "213VCD042Z",
         "vacina_fabricante_nome": "ASTRAZENECA/FIOCRUZ",
         "vacina_fabricante_referencia": "Organization/33781055000135",
         "vacina_dataaplicacao": "2021-06-08",
         "vacina_descricao_dose": "1ª Dose",
         "vacina_codigo": 85,
         "vacina_nome": "COVID-19 ASTRAZENECA/FIOCRUZ - COVISHIELD",
         "sistema_origem": "Novo PNI",
         "data_importacao_rnds": "2021-06-11T16:17:22.000Z",
         "id_sistema_origem": 16341,
         "data": "2021-06-08",
         "_deepnote_index_column": 3
        },
        {
         "document_id": "41f0bf14-1b8d-4141-904a-d2db987ea846-i0b0",
         "paciente_id": "6687b2e01ac41dfd8e415d530349ed7ceb55f3d74947aec6b8634b82f823a64d",
         "paciente_idade": 57,
         "paciente_datanascimento": "1964-04-07",
         "paciente_enumsexobiologico": "M",
         "paciente_racacor_codigo": 4,
         "paciente_racacor_valor": "AMARELA",
         "paciente_endereco_coibgemunicipio": 120020,
         "paciente_endereco_copais": 10,
         "paciente_endereco_nmmunicipio": "CRUZEIRO DO SUL",
         "paciente_endereco_nmpais": "BRASIL",
         "paciente_endereco_uf": "AC",
         "paciente_endereco_cep": 69980,
         "paciente_nacionalidade_enumnacionalidade": "B",
         "estabelecimento_valor": 6159087,
         "estabelecimento_razaosocial": "PREFEITURA MUNICIPAL DE CRUZEIRO DO SUL",
         "estalecimento_nofantasia": "SECRETARIA MUNICIPAL DE SAUDE DE CRUZEIRO DO SUL",
         "estabelecimento_municipio_codigo": 120020,
         "estabelecimento_municipio_nome": "CRUZEIRO DO SUL",
         "estabelecimento_uf": "AC",
         "vacina_grupoatendimento_codigo": 103,
         "vacina_grupoatendimento_nome": "Diabetes Mellitus",
         "vacina_categoria_codigo": 1,
         "vacina_categoria_nome": "Comorbidades",
         "vacina_lote": "213VCD042Z",
         "vacina_fabricante_nome": "ASTRAZENECA/FIOCRUZ",
         "vacina_fabricante_referencia": "Organization/33781055000135",
         "vacina_dataaplicacao": "2021-05-15",
         "vacina_descricao_dose": "1ª Dose",
         "vacina_codigo": 85,
         "vacina_nome": "COVID-19 ASTRAZENECA/FIOCRUZ - COVISHIELD",
         "sistema_origem": "Novo PNI",
         "data_importacao_rnds": "2021-05-18T02:39:37.000Z",
         "id_sistema_origem": 16341,
         "data": "2021-05-15",
         "_deepnote_index_column": 4
        }
       ],
       "rows_bottom": null
      },
      "text/plain": "                                 document_id  \\\n0  0c6be3a6-36df-4973-a85d-7ff77c15148f-i0b0   \n1  35361c96-c780-4033-bd60-210dec29167a-i0b0   \n2  43095ed8-c90e-47c9-ba10-5392e12b1b1b-i0b0   \n3  4f58867c-e3e1-4b79-81a5-d43b2c5770b0-i0b0   \n4  41f0bf14-1b8d-4141-904a-d2db987ea846-i0b0   \n\n                                         paciente_id  paciente_idade  \\\n0  7c71545e1690795de7a5c2e03879640b182ac13d575d9e...              46   \n1  b3d5628ff71e1ecb3804a37f7f03caae5a6ac6802162d1...              20   \n2  f72004f5fb31cce6d140efd4592ada58cf81b13417288e...              22   \n3  b455c80f80546eb43d229a0d32073798840a16aa453c67...              37   \n4  6687b2e01ac41dfd8e415d530349ed7ceb55f3d74947ae...              57   \n\n  paciente_datanascimento paciente_enumsexobiologico  paciente_racacor_codigo  \\\n0              1974-07-25                          F                        3   \n1              2000-12-03                          F                        3   \n2              1998-12-10                          M                        5   \n3              1983-07-03                          M                        3   \n4              1964-04-07                          M                        4   \n\n  paciente_racacor_valor  paciente_endereco_coibgemunicipio  \\\n0                  PARDA                           120045.0   \n1                  PARDA                           120040.0   \n2               INDIGENA                           120035.0   \n3                  PARDA                           120040.0   \n4                AMARELA                           120020.0   \n\n   paciente_endereco_copais paciente_endereco_nmmunicipio  ...  \\\n0                      10.0              SENADOR GUIOMARD  ...   \n1                      10.0                    RIO BRANCO  ...   \n2                      10.0          MARECHAL THAUMATURGO  ...   \n3                      10.0                    RIO BRANCO  ...   \n4                      10.0               CRUZEIRO DO SUL  ...   \n\n  vacina_fabricante_nome vacina_fabricante_referencia  vacina_dataaplicacao  \\\n0    ASTRAZENECA/FIOCRUZ  Organization/33781055000135            2021-05-12   \n1                 PFIZER  Organization/00394544000851            2021-07-27   \n2       SINOVAC/BUTANTAN  Organization/61189445000156            2021-02-25   \n3    ASTRAZENECA/FIOCRUZ  Organization/33781055000135            2021-06-08   \n4    ASTRAZENECA/FIOCRUZ  Organization/33781055000135            2021-05-15   \n\n  vacina_descricao_dose  vacina_codigo  \\\n0               1ª Dose             85   \n1               1ª Dose             87   \n2               1ª Dose             86   \n3               1ª Dose             85   \n4               1ª Dose             85   \n\n                                 vacina_nome sistema_origem  \\\n0  COVID-19 ASTRAZENECA/FIOCRUZ - COVISHIELD       Novo PNI   \n1                COVID-19 PFIZER - COMIRNATY       Novo PNI   \n2      COVID-19 SINOVAC/BUTANTAN - CORONAVAC       Novo PNI   \n3  COVID-19 ASTRAZENECA/FIOCRUZ - COVISHIELD       Novo PNI   \n4  COVID-19 ASTRAZENECA/FIOCRUZ - COVISHIELD       Novo PNI   \n\n       data_importacao_rnds id_sistema_origem        data  \n0  2021-05-19T15:34:42.000Z             16341  2021-05-12  \n1  2021-08-01T14:20:03.000Z             16341  2021-07-27  \n2  2021-03-10T19:43:54.000Z             16341  2021-02-25  \n3  2021-06-11T16:17:22.000Z             16341  2021-06-08  \n4  2021-05-18T02:39:37.000Z             16341  2021-05-15  \n\n[5 rows x 35 columns]",
      "text/html": "<div>\n<style scoped>\n    .dataframe tbody tr th:only-of-type {\n        vertical-align: middle;\n    }\n\n    .dataframe tbody tr th {\n        vertical-align: top;\n    }\n\n    .dataframe thead th {\n        text-align: right;\n    }\n</style>\n<table border=\"1\" class=\"dataframe\">\n  <thead>\n    <tr style=\"text-align: right;\">\n      <th></th>\n      <th>document_id</th>\n      <th>paciente_id</th>\n      <th>paciente_idade</th>\n      <th>paciente_datanascimento</th>\n      <th>paciente_enumsexobiologico</th>\n      <th>paciente_racacor_codigo</th>\n      <th>paciente_racacor_valor</th>\n      <th>paciente_endereco_coibgemunicipio</th>\n      <th>paciente_endereco_copais</th>\n      <th>paciente_endereco_nmmunicipio</th>\n      <th>...</th>\n      <th>vacina_fabricante_nome</th>\n      <th>vacina_fabricante_referencia</th>\n      <th>vacina_dataaplicacao</th>\n      <th>vacina_descricao_dose</th>\n      <th>vacina_codigo</th>\n      <th>vacina_nome</th>\n      <th>sistema_origem</th>\n      <th>data_importacao_rnds</th>\n      <th>id_sistema_origem</th>\n      <th>data</th>\n    </tr>\n  </thead>\n  <tbody>\n    <tr>\n      <th>0</th>\n      <td>0c6be3a6-36df-4973-a85d-7ff77c15148f-i0b0</td>\n      <td>7c71545e1690795de7a5c2e03879640b182ac13d575d9e...</td>\n      <td>46</td>\n      <td>1974-07-25</td>\n      <td>F</td>\n      <td>3</td>\n      <td>PARDA</td>\n      <td>120045.0</td>\n      <td>10.0</td>\n      <td>SENADOR GUIOMARD</td>\n      <td>...</td>\n      <td>ASTRAZENECA/FIOCRUZ</td>\n      <td>Organization/33781055000135</td>\n      <td>2021-05-12</td>\n      <td>1ª Dose</td>\n      <td>85</td>\n      <td>COVID-19 ASTRAZENECA/FIOCRUZ - COVISHIELD</td>\n      <td>Novo PNI</td>\n      <td>2021-05-19T15:34:42.000Z</td>\n      <td>16341</td>\n      <td>2021-05-12</td>\n    </tr>\n    <tr>\n      <th>1</th>\n      <td>35361c96-c780-4033-bd60-210dec29167a-i0b0</td>\n      <td>b3d5628ff71e1ecb3804a37f7f03caae5a6ac6802162d1...</td>\n      <td>20</td>\n      <td>2000-12-03</td>\n      <td>F</td>\n      <td>3</td>\n      <td>PARDA</td>\n      <td>120040.0</td>\n      <td>10.0</td>\n      <td>RIO BRANCO</td>\n      <td>...</td>\n      <td>PFIZER</td>\n      <td>Organization/00394544000851</td>\n      <td>2021-07-27</td>\n      <td>1ª Dose</td>\n      <td>87</td>\n      <td>COVID-19 PFIZER - COMIRNATY</td>\n      <td>Novo PNI</td>\n      <td>2021-08-01T14:20:03.000Z</td>\n      <td>16341</td>\n      <td>2021-07-27</td>\n    </tr>\n    <tr>\n      <th>2</th>\n      <td>43095ed8-c90e-47c9-ba10-5392e12b1b1b-i0b0</td>\n      <td>f72004f5fb31cce6d140efd4592ada58cf81b13417288e...</td>\n      <td>22</td>\n      <td>1998-12-10</td>\n      <td>M</td>\n      <td>5</td>\n      <td>INDIGENA</td>\n      <td>120035.0</td>\n      <td>10.0</td>\n      <td>MARECHAL THAUMATURGO</td>\n      <td>...</td>\n      <td>SINOVAC/BUTANTAN</td>\n      <td>Organization/61189445000156</td>\n      <td>2021-02-25</td>\n      <td>1ª Dose</td>\n      <td>86</td>\n      <td>COVID-19 SINOVAC/BUTANTAN - CORONAVAC</td>\n      <td>Novo PNI</td>\n      <td>2021-03-10T19:43:54.000Z</td>\n      <td>16341</td>\n      <td>2021-02-25</td>\n    </tr>\n    <tr>\n      <th>3</th>\n      <td>4f58867c-e3e1-4b79-81a5-d43b2c5770b0-i0b0</td>\n      <td>b455c80f80546eb43d229a0d32073798840a16aa453c67...</td>\n      <td>37</td>\n      <td>1983-07-03</td>\n      <td>M</td>\n      <td>3</td>\n      <td>PARDA</td>\n      <td>120040.0</td>\n      <td>10.0</td>\n      <td>RIO BRANCO</td>\n      <td>...</td>\n      <td>ASTRAZENECA/FIOCRUZ</td>\n      <td>Organization/33781055000135</td>\n      <td>2021-06-08</td>\n      <td>1ª Dose</td>\n      <td>85</td>\n      <td>COVID-19 ASTRAZENECA/FIOCRUZ - COVISHIELD</td>\n      <td>Novo PNI</td>\n      <td>2021-06-11T16:17:22.000Z</td>\n      <td>16341</td>\n      <td>2021-06-08</td>\n    </tr>\n    <tr>\n      <th>4</th>\n      <td>41f0bf14-1b8d-4141-904a-d2db987ea846-i0b0</td>\n      <td>6687b2e01ac41dfd8e415d530349ed7ceb55f3d74947ae...</td>\n      <td>57</td>\n      <td>1964-04-07</td>\n      <td>M</td>\n      <td>4</td>\n      <td>AMARELA</td>\n      <td>120020.0</td>\n      <td>10.0</td>\n      <td>CRUZEIRO DO SUL</td>\n      <td>...</td>\n      <td>ASTRAZENECA/FIOCRUZ</td>\n      <td>Organization/33781055000135</td>\n      <td>2021-05-15</td>\n      <td>1ª Dose</td>\n      <td>85</td>\n      <td>COVID-19 ASTRAZENECA/FIOCRUZ - COVISHIELD</td>\n      <td>Novo PNI</td>\n      <td>2021-05-18T02:39:37.000Z</td>\n      <td>16341</td>\n      <td>2021-05-15</td>\n    </tr>\n  </tbody>\n</table>\n<p>5 rows × 35 columns</p>\n</div>"
     },
     "metadata": {}
    }
   ],
   "execution_count": null
  },
  {
   "cell_type": "code",
   "metadata": {
    "tags": [],
    "cell_id": "00022-1de95c55-0318-42e7-b7fd-4c7cde25fa7f",
    "deepnote_to_be_reexecuted": false,
    "source_hash": "4465f5cb",
    "execution_start": 1635685940652,
    "execution_millis": 246,
    "deepnote_cell_type": "code"
   },
   "source": "cruzeiro_df =df.loc[(df['paciente_endereco_nmmunicipio']=='CRUZEIRO DO SUL') & (df['data']<=dt.date(2021,7,29))]\n\nprint(f\"{cruzeiro_df.shape[0]} vacinas aplicadas\")\n\nnum2=cruzeiro_df.loc[(cruzeiro_df['vacina_descricao_dose']==keys[0]) | (cruzeiro_df['vacina_descricao_dose']==keys[6])].shape[0]\nnum3=cruzeiro_df.loc[(cruzeiro_df['vacina_descricao_dose']==keys[1]) | (cruzeiro_df['vacina_descricao_dose']==keys[3])].shape[0]\nprint(f\"{num2} 1ª dose, {num3} 2ª dose\")",
   "outputs": [
    {
     "name": "stdout",
     "text": "55357 vacinas aplicadas\n40755 1ª dose, 13823 2ª dose\n",
     "output_type": "stream"
    }
   ],
   "execution_count": null
  },
  {
   "cell_type": "markdown",
   "source": "#### Notícia 3:\n- Vacinação dos indígenas aldeados começou no dia 20/01/2021\n##### Até o dia 16/04/2021:\n- 6,7k 1ª dose\n- 4,4k 2ª dose",
   "metadata": {
    "tags": [],
    "cell_id": "00022-f2e1a6f6-7040-4c06-8443-c3f18bf2908b",
    "deepnote_cell_type": "markdown"
   }
  },
  {
   "cell_type": "code",
   "metadata": {
    "tags": [],
    "cell_id": "00023-d4d1eec7-6397-4b41-aac9-a9bf03576646",
    "deepnote_to_be_reexecuted": false,
    "source_hash": "c188072",
    "execution_start": 1635686082694,
    "execution_millis": 364,
    "deepnote_cell_type": "code"
   },
   "source": "keys2 = df['vacina_grupoatendimento_nome'].unique()\ndf.loc[(df['vacina_grupoatendimento_nome']==keys2[2]) & (df['data']<dt.date(2021,1,20))]",
   "outputs": [
    {
     "output_type": "execute_result",
     "execution_count": 21,
     "data": {
      "application/vnd.deepnote.dataframe.v2+json": {
       "row_count": 3,
       "column_count": 35,
       "columns": [
        {
         "name": "document_id",
         "dtype": "object",
         "stats": {
          "unique_count": 3,
          "nan_count": 0,
          "categories": [
           {
            "name": "dbf9fbb1-cd29-47b1-ae0b-bf2c897313f2-i0b0",
            "count": 1
           },
           {
            "name": "20f22fa8-0a27-44ed-97a6-8a71bfeed037-i0b0",
            "count": 1
           },
           {
            "name": "364b4258-ffae-4bf6-8124-22f55892676d-i0b0",
            "count": 1
           }
          ]
         }
        },
        {
         "name": "paciente_id",
         "dtype": "object",
         "stats": {
          "unique_count": 3,
          "nan_count": 0,
          "categories": [
           {
            "name": "62911c367773a117c42798edf2c795787a678f28d3295d45f628bb2ccc5abb2c",
            "count": 1
           },
           {
            "name": "d93a4fdae486f52a24b6363542cb1433d7041fba18d8463fc6969b1bb5e046e0",
            "count": 1
           },
           {
            "name": "1b75ec611b635a27ef693e4a5d3383fe4c83833986deda855ad95857787bfe0b",
            "count": 1
           }
          ]
         }
        },
        {
         "name": "paciente_idade",
         "dtype": "int64",
         "stats": {
          "unique_count": 3,
          "nan_count": 0,
          "min": "48",
          "max": "55",
          "histogram": [
           {
            "bin_start": 48,
            "bin_end": 48.7,
            "count": 1
           },
           {
            "bin_start": 48.7,
            "bin_end": 49.4,
            "count": 1
           },
           {
            "bin_start": 49.4,
            "bin_end": 50.1,
            "count": 0
           },
           {
            "bin_start": 50.1,
            "bin_end": 50.8,
            "count": 0
           },
           {
            "bin_start": 50.8,
            "bin_end": 51.5,
            "count": 0
           },
           {
            "bin_start": 51.5,
            "bin_end": 52.2,
            "count": 0
           },
           {
            "bin_start": 52.2,
            "bin_end": 52.9,
            "count": 0
           },
           {
            "bin_start": 52.9,
            "bin_end": 53.6,
            "count": 0
           },
           {
            "bin_start": 53.6,
            "bin_end": 54.3,
            "count": 0
           },
           {
            "bin_start": 54.3,
            "bin_end": 55,
            "count": 1
           }
          ]
         }
        },
        {
         "name": "paciente_datanascimento",
         "dtype": "object",
         "stats": {
          "unique_count": 3,
          "nan_count": 0,
          "categories": [
           {
            "name": "1972-08-26",
            "count": 1
           },
           {
            "name": "1971-08-05",
            "count": 1
           },
           {
            "name": "1965-01-29",
            "count": 1
           }
          ]
         }
        },
        {
         "name": "paciente_enumsexobiologico",
         "dtype": "object",
         "stats": {
          "unique_count": 2,
          "nan_count": 0,
          "categories": [
           {
            "name": "M",
            "count": 2
           },
           {
            "name": "F",
            "count": 1
           }
          ]
         }
        },
        {
         "name": "paciente_racacor_codigo",
         "dtype": "int64",
         "stats": {
          "unique_count": 2,
          "nan_count": 0,
          "min": "5",
          "max": "99",
          "histogram": [
           {
            "bin_start": 5,
            "bin_end": 14.4,
            "count": 2
           },
           {
            "bin_start": 14.4,
            "bin_end": 23.8,
            "count": 0
           },
           {
            "bin_start": 23.8,
            "bin_end": 33.2,
            "count": 0
           },
           {
            "bin_start": 33.2,
            "bin_end": 42.6,
            "count": 0
           },
           {
            "bin_start": 42.6,
            "bin_end": 52,
            "count": 0
           },
           {
            "bin_start": 52,
            "bin_end": 61.400000000000006,
            "count": 0
           },
           {
            "bin_start": 61.400000000000006,
            "bin_end": 70.8,
            "count": 0
           },
           {
            "bin_start": 70.8,
            "bin_end": 80.2,
            "count": 0
           },
           {
            "bin_start": 80.2,
            "bin_end": 89.60000000000001,
            "count": 0
           },
           {
            "bin_start": 89.60000000000001,
            "bin_end": 99,
            "count": 1
           }
          ]
         }
        },
        {
         "name": "paciente_racacor_valor",
         "dtype": "object",
         "stats": {
          "unique_count": 2,
          "nan_count": 0,
          "categories": [
           {
            "name": "INDIGENA",
            "count": 2
           },
           {
            "name": "SEM INFORMACAO",
            "count": 1
           }
          ]
         }
        },
        {
         "name": "paciente_endereco_coibgemunicipio",
         "dtype": "float64",
         "stats": {
          "unique_count": 3,
          "nan_count": 0,
          "min": "120020.0",
          "max": "120050.0",
          "histogram": [
           {
            "bin_start": 120020,
            "bin_end": 120023,
            "count": 1
           },
           {
            "bin_start": 120023,
            "bin_end": 120026,
            "count": 0
           },
           {
            "bin_start": 120026,
            "bin_end": 120029,
            "count": 0
           },
           {
            "bin_start": 120029,
            "bin_end": 120032,
            "count": 0
           },
           {
            "bin_start": 120032,
            "bin_end": 120035,
            "count": 0
           },
           {
            "bin_start": 120035,
            "bin_end": 120038,
            "count": 1
           },
           {
            "bin_start": 120038,
            "bin_end": 120041,
            "count": 0
           },
           {
            "bin_start": 120041,
            "bin_end": 120044,
            "count": 0
           },
           {
            "bin_start": 120044,
            "bin_end": 120047,
            "count": 0
           },
           {
            "bin_start": 120047,
            "bin_end": 120050,
            "count": 1
           }
          ]
         }
        },
        {
         "name": "paciente_endereco_copais",
         "dtype": "float64",
         "stats": {
          "unique_count": 1,
          "nan_count": 0,
          "min": "10.0",
          "max": "10.0",
          "histogram": [
           {
            "bin_start": 9.5,
            "bin_end": 9.6,
            "count": 0
           },
           {
            "bin_start": 9.6,
            "bin_end": 9.7,
            "count": 0
           },
           {
            "bin_start": 9.7,
            "bin_end": 9.8,
            "count": 0
           },
           {
            "bin_start": 9.8,
            "bin_end": 9.9,
            "count": 0
           },
           {
            "bin_start": 9.9,
            "bin_end": 10,
            "count": 0
           },
           {
            "bin_start": 10,
            "bin_end": 10.1,
            "count": 3
           },
           {
            "bin_start": 10.1,
            "bin_end": 10.2,
            "count": 0
           },
           {
            "bin_start": 10.2,
            "bin_end": 10.3,
            "count": 0
           },
           {
            "bin_start": 10.3,
            "bin_end": 10.4,
            "count": 0
           },
           {
            "bin_start": 10.4,
            "bin_end": 10.5,
            "count": 0
           }
          ]
         }
        },
        {
         "name": "paciente_endereco_nmmunicipio",
         "dtype": "object",
         "stats": {
          "unique_count": 3,
          "nan_count": 0,
          "categories": [
           {
            "name": "MARECHAL THAUMATURGO",
            "count": 1
           },
           {
            "name": "SENA MADUREIRA",
            "count": 1
           },
           {
            "name": "CRUZEIRO DO SUL",
            "count": 1
           }
          ]
         }
        },
        {
         "name": "paciente_endereco_nmpais",
         "dtype": "object",
         "stats": {
          "unique_count": 1,
          "nan_count": 0,
          "categories": [
           {
            "name": "BRASIL",
            "count": 3
           }
          ]
         }
        },
        {
         "name": "paciente_endereco_uf",
         "dtype": "object",
         "stats": {
          "unique_count": 1,
          "nan_count": 0,
          "categories": [
           {
            "name": "AC",
            "count": 3
           }
          ]
         }
        },
        {
         "name": "paciente_endereco_cep",
         "dtype": "float64",
         "stats": {
          "unique_count": 1,
          "nan_count": 2,
          "min": "69980.0",
          "max": "69980.0",
          "histogram": [
           {
            "bin_start": 69979.5,
            "bin_end": 69979.6,
            "count": 0
           },
           {
            "bin_start": 69979.6,
            "bin_end": 69979.7,
            "count": 0
           },
           {
            "bin_start": 69979.7,
            "bin_end": 69979.8,
            "count": 0
           },
           {
            "bin_start": 69979.8,
            "bin_end": 69979.9,
            "count": 0
           },
           {
            "bin_start": 69979.9,
            "bin_end": 69980,
            "count": 0
           },
           {
            "bin_start": 69980,
            "bin_end": 69980.1,
            "count": 1
           },
           {
            "bin_start": 69980.1,
            "bin_end": 69980.2,
            "count": 0
           },
           {
            "bin_start": 69980.2,
            "bin_end": 69980.3,
            "count": 0
           },
           {
            "bin_start": 69980.3,
            "bin_end": 69980.4,
            "count": 0
           },
           {
            "bin_start": 69980.4,
            "bin_end": 69980.5,
            "count": 0
           }
          ]
         }
        },
        {
         "name": "paciente_nacionalidade_enumnacionalidade",
         "dtype": "object",
         "stats": {
          "unique_count": 1,
          "nan_count": 0,
          "categories": [
           {
            "name": "B",
            "count": 3
           }
          ]
         }
        },
        {
         "name": "estabelecimento_valor",
         "dtype": "int64",
         "stats": {
          "unique_count": 3,
          "nan_count": 0,
          "min": "2000865",
          "max": "7625855",
          "histogram": [
           {
            "bin_start": 2000865,
            "bin_end": 2563364,
            "count": 1
           },
           {
            "bin_start": 2563364,
            "bin_end": 3125863,
            "count": 0
           },
           {
            "bin_start": 3125863,
            "bin_end": 3688362,
            "count": 0
           },
           {
            "bin_start": 3688362,
            "bin_end": 4250861,
            "count": 0
           },
           {
            "bin_start": 4250861,
            "bin_end": 4813360,
            "count": 0
           },
           {
            "bin_start": 4813360,
            "bin_end": 5375859,
            "count": 0
           },
           {
            "bin_start": 5375859,
            "bin_end": 5938358,
            "count": 0
           },
           {
            "bin_start": 5938358,
            "bin_end": 6500857,
            "count": 1
           },
           {
            "bin_start": 6500857,
            "bin_end": 7063356,
            "count": 0
           },
           {
            "bin_start": 7063356,
            "bin_end": 7625855,
            "count": 1
           }
          ]
         }
        },
        {
         "name": "estabelecimento_razaosocial",
         "dtype": "object",
         "stats": {
          "unique_count": 3,
          "nan_count": 0,
          "categories": [
           {
            "name": "DISTRITO SANITARIO ESPECIAL INDIGENA ALTO RIO JURUA",
            "count": 1
           },
           {
            "name": "SECRETARIA DE ESTADO DE SAUDE",
            "count": 1
           },
           {
            "name": "PREFEITURA MUNICIPAL DE CRUZEIRO DO SUL",
            "count": 1
           }
          ]
         }
        },
        {
         "name": "estalecimento_nofantasia",
         "dtype": "object",
         "stats": {
          "unique_count": 3,
          "nan_count": 0,
          "categories": [
           {
            "name": "POLO BASE DE MARECHAL THAUMATURGO",
            "count": 1
           },
           {
            "name": "HOSPITAL JOAO CANCIO FERNANDES",
            "count": 1
           },
           {
            "name": "SECRETARIA MUNICIPAL DE SAUDE DE CRUZEIRO DO SUL",
            "count": 1
           }
          ]
         }
        },
        {
         "name": "estabelecimento_municipio_codigo",
         "dtype": "int64",
         "stats": {
          "unique_count": 3,
          "nan_count": 0,
          "min": "120020",
          "max": "120050",
          "histogram": [
           {
            "bin_start": 120020,
            "bin_end": 120023,
            "count": 1
           },
           {
            "bin_start": 120023,
            "bin_end": 120026,
            "count": 0
           },
           {
            "bin_start": 120026,
            "bin_end": 120029,
            "count": 0
           },
           {
            "bin_start": 120029,
            "bin_end": 120032,
            "count": 0
           },
           {
            "bin_start": 120032,
            "bin_end": 120035,
            "count": 0
           },
           {
            "bin_start": 120035,
            "bin_end": 120038,
            "count": 1
           },
           {
            "bin_start": 120038,
            "bin_end": 120041,
            "count": 0
           },
           {
            "bin_start": 120041,
            "bin_end": 120044,
            "count": 0
           },
           {
            "bin_start": 120044,
            "bin_end": 120047,
            "count": 0
           },
           {
            "bin_start": 120047,
            "bin_end": 120050,
            "count": 1
           }
          ]
         }
        },
        {
         "name": "estabelecimento_municipio_nome",
         "dtype": "object",
         "stats": {
          "unique_count": 3,
          "nan_count": 0,
          "categories": [
           {
            "name": "MARECHAL THAUMATURGO",
            "count": 1
           },
           {
            "name": "SENA MADUREIRA",
            "count": 1
           },
           {
            "name": "CRUZEIRO DO SUL",
            "count": 1
           }
          ]
         }
        },
        {
         "name": "estabelecimento_uf",
         "dtype": "object",
         "stats": {
          "unique_count": 1,
          "nan_count": 0,
          "categories": [
           {
            "name": "AC",
            "count": 3
           }
          ]
         }
        },
        {
         "name": "vacina_grupoatendimento_codigo",
         "dtype": "int64",
         "stats": {
          "unique_count": 1,
          "nan_count": 0,
          "min": "701",
          "max": "701",
          "histogram": [
           {
            "bin_start": 700.5,
            "bin_end": 700.6,
            "count": 0
           },
           {
            "bin_start": 700.6,
            "bin_end": 700.7,
            "count": 0
           },
           {
            "bin_start": 700.7,
            "bin_end": 700.8,
            "count": 0
           },
           {
            "bin_start": 700.8,
            "bin_end": 700.9,
            "count": 0
           },
           {
            "bin_start": 700.9,
            "bin_end": 701,
            "count": 0
           },
           {
            "bin_start": 701,
            "bin_end": 701.1,
            "count": 3
           },
           {
            "bin_start": 701.1,
            "bin_end": 701.2,
            "count": 0
           },
           {
            "bin_start": 701.2,
            "bin_end": 701.3,
            "count": 0
           },
           {
            "bin_start": 701.3,
            "bin_end": 701.4,
            "count": 0
           },
           {
            "bin_start": 701.4,
            "bin_end": 701.5,
            "count": 0
           }
          ]
         }
        },
        {
         "name": "vacina_grupoatendimento_nome",
         "dtype": "object",
         "stats": {
          "unique_count": 1,
          "nan_count": 0,
          "categories": [
           {
            "name": "Povos indígenas em terras indígenas",
            "count": 3
           }
          ]
         }
        },
        {
         "name": "vacina_categoria_codigo",
         "dtype": "float64",
         "stats": {
          "unique_count": 1,
          "nan_count": 0,
          "min": "7.0",
          "max": "7.0",
          "histogram": [
           {
            "bin_start": 6.5,
            "bin_end": 6.6,
            "count": 0
           },
           {
            "bin_start": 6.6,
            "bin_end": 6.7,
            "count": 0
           },
           {
            "bin_start": 6.7,
            "bin_end": 6.8,
            "count": 0
           },
           {
            "bin_start": 6.8,
            "bin_end": 6.9,
            "count": 0
           },
           {
            "bin_start": 6.9,
            "bin_end": 7,
            "count": 0
           },
           {
            "bin_start": 7,
            "bin_end": 7.1,
            "count": 3
           },
           {
            "bin_start": 7.1,
            "bin_end": 7.2,
            "count": 0
           },
           {
            "bin_start": 7.2,
            "bin_end": 7.3,
            "count": 0
           },
           {
            "bin_start": 7.3,
            "bin_end": 7.4,
            "count": 0
           },
           {
            "bin_start": 7.4,
            "bin_end": 7.5,
            "count": 0
           }
          ]
         }
        },
        {
         "name": "vacina_categoria_nome",
         "dtype": "object",
         "stats": {
          "unique_count": 1,
          "nan_count": 0,
          "categories": [
           {
            "name": "Povos Indígenas",
            "count": 3
           }
          ]
         }
        },
        {
         "name": "vacina_lote",
         "dtype": "object",
         "stats": {
          "unique_count": 2,
          "nan_count": 0,
          "categories": [
           {
            "name": "202010040",
            "count": 2
           },
           {
            "name": "202010028",
            "count": 1
           }
          ]
         }
        },
        {
         "name": "vacina_fabricante_nome",
         "dtype": "object",
         "stats": {
          "unique_count": 1,
          "nan_count": 0,
          "categories": [
           {
            "name": "SINOVAC/BUTANTAN",
            "count": 3
           }
          ]
         }
        },
        {
         "name": "vacina_fabricante_referencia",
         "dtype": "object",
         "stats": {
          "unique_count": 1,
          "nan_count": 0,
          "categories": [
           {
            "name": "Organization/61189445000156",
            "count": 3
           }
          ]
         }
        },
        {
         "name": "vacina_dataaplicacao",
         "dtype": "object",
         "stats": {
          "unique_count": 2,
          "nan_count": 0,
          "categories": [
           {
            "name": "2021-01-19",
            "count": 2
           },
           {
            "name": "2021-01-18",
            "count": 1
           }
          ]
         }
        },
        {
         "name": "vacina_descricao_dose",
         "dtype": "object",
         "stats": {
          "unique_count": 1,
          "nan_count": 0,
          "categories": [
           {
            "name": "1ª Dose",
            "count": 3
           }
          ]
         }
        },
        {
         "name": "vacina_codigo",
         "dtype": "int64",
         "stats": {
          "unique_count": 1,
          "nan_count": 0,
          "min": "86",
          "max": "86",
          "histogram": [
           {
            "bin_start": 85.5,
            "bin_end": 85.6,
            "count": 0
           },
           {
            "bin_start": 85.6,
            "bin_end": 85.7,
            "count": 0
           },
           {
            "bin_start": 85.7,
            "bin_end": 85.8,
            "count": 0
           },
           {
            "bin_start": 85.8,
            "bin_end": 85.9,
            "count": 0
           },
           {
            "bin_start": 85.9,
            "bin_end": 86,
            "count": 0
           },
           {
            "bin_start": 86,
            "bin_end": 86.1,
            "count": 3
           },
           {
            "bin_start": 86.1,
            "bin_end": 86.2,
            "count": 0
           },
           {
            "bin_start": 86.2,
            "bin_end": 86.3,
            "count": 0
           },
           {
            "bin_start": 86.3,
            "bin_end": 86.4,
            "count": 0
           },
           {
            "bin_start": 86.4,
            "bin_end": 86.5,
            "count": 0
           }
          ]
         }
        },
        {
         "name": "vacina_nome",
         "dtype": "object",
         "stats": {
          "unique_count": 1,
          "nan_count": 0,
          "categories": [
           {
            "name": "COVID-19 SINOVAC/BUTANTAN - CORONAVAC",
            "count": 3
           }
          ]
         }
        },
        {
         "name": "sistema_origem",
         "dtype": "object",
         "stats": {
          "unique_count": 1,
          "nan_count": 0,
          "categories": [
           {
            "name": "Novo PNI",
            "count": 3
           }
          ]
         }
        },
        {
         "name": "data_importacao_rnds",
         "dtype": "object",
         "stats": {
          "unique_count": 3,
          "nan_count": 0,
          "categories": [
           {
            "name": "2021-02-19T21:41:05.000Z",
            "count": 1
           },
           {
            "name": "2021-01-25T15:00:50.000Z",
            "count": 1
           },
           {
            "name": "2021-02-22T12:43:59.000Z",
            "count": 1
           }
          ]
         }
        },
        {
         "name": "id_sistema_origem",
         "dtype": "int64",
         "stats": {
          "unique_count": 1,
          "nan_count": 0,
          "min": "16341",
          "max": "16341",
          "histogram": [
           {
            "bin_start": 16340.5,
            "bin_end": 16340.6,
            "count": 0
           },
           {
            "bin_start": 16340.6,
            "bin_end": 16340.7,
            "count": 0
           },
           {
            "bin_start": 16340.7,
            "bin_end": 16340.8,
            "count": 0
           },
           {
            "bin_start": 16340.8,
            "bin_end": 16340.9,
            "count": 0
           },
           {
            "bin_start": 16340.9,
            "bin_end": 16341,
            "count": 0
           },
           {
            "bin_start": 16341,
            "bin_end": 16341.1,
            "count": 3
           },
           {
            "bin_start": 16341.1,
            "bin_end": 16341.2,
            "count": 0
           },
           {
            "bin_start": 16341.2,
            "bin_end": 16341.3,
            "count": 0
           },
           {
            "bin_start": 16341.3,
            "bin_end": 16341.4,
            "count": 0
           },
           {
            "bin_start": 16341.4,
            "bin_end": 16341.5,
            "count": 0
           }
          ]
         }
        },
        {
         "name": "data",
         "dtype": "object",
         "stats": {
          "unique_count": 2,
          "nan_count": 0,
          "categories": [
           {
            "name": "2021-01-19",
            "count": 2
           },
           {
            "name": "2021-01-18",
            "count": 1
           }
          ]
         }
        },
        {
         "name": "_deepnote_index_column",
         "dtype": "int64"
        }
       ],
       "rows_top": [
        {
         "document_id": "dbf9fbb1-cd29-47b1-ae0b-bf2c897313f2-i0b0",
         "paciente_id": "62911c367773a117c42798edf2c795787a678f28d3295d45f628bb2ccc5abb2c",
         "paciente_idade": 48,
         "paciente_datanascimento": "1972-08-26",
         "paciente_enumsexobiologico": "M",
         "paciente_racacor_codigo": 99,
         "paciente_racacor_valor": "SEM INFORMACAO",
         "paciente_endereco_coibgemunicipio": 120035,
         "paciente_endereco_copais": 10,
         "paciente_endereco_nmmunicipio": "MARECHAL THAUMATURGO",
         "paciente_endereco_nmpais": "BRASIL",
         "paciente_endereco_uf": "AC",
         "paciente_endereco_cep": "nan",
         "paciente_nacionalidade_enumnacionalidade": "B",
         "estabelecimento_valor": 7625855,
         "estabelecimento_razaosocial": "DISTRITO SANITARIO ESPECIAL INDIGENA ALTO RIO JURUA",
         "estalecimento_nofantasia": "POLO BASE DE MARECHAL THAUMATURGO",
         "estabelecimento_municipio_codigo": 120035,
         "estabelecimento_municipio_nome": "MARECHAL THAUMATURGO",
         "estabelecimento_uf": "AC",
         "vacina_grupoatendimento_codigo": 701,
         "vacina_grupoatendimento_nome": "Povos indígenas em terras indígenas",
         "vacina_categoria_codigo": 7,
         "vacina_categoria_nome": "Povos Indígenas",
         "vacina_lote": "202010028",
         "vacina_fabricante_nome": "SINOVAC/BUTANTAN",
         "vacina_fabricante_referencia": "Organization/61189445000156",
         "vacina_dataaplicacao": "2021-01-18",
         "vacina_descricao_dose": "1ª Dose",
         "vacina_codigo": 86,
         "vacina_nome": "COVID-19 SINOVAC/BUTANTAN - CORONAVAC",
         "sistema_origem": "Novo PNI",
         "data_importacao_rnds": "2021-02-19T21:41:05.000Z",
         "id_sistema_origem": 16341,
         "data": "2021-01-18",
         "_deepnote_index_column": 221609
        },
        {
         "document_id": "20f22fa8-0a27-44ed-97a6-8a71bfeed037-i0b0",
         "paciente_id": "d93a4fdae486f52a24b6363542cb1433d7041fba18d8463fc6969b1bb5e046e0",
         "paciente_idade": 49,
         "paciente_datanascimento": "1971-08-05",
         "paciente_enumsexobiologico": "F",
         "paciente_racacor_codigo": 5,
         "paciente_racacor_valor": "INDIGENA",
         "paciente_endereco_coibgemunicipio": 120050,
         "paciente_endereco_copais": 10,
         "paciente_endereco_nmmunicipio": "SENA MADUREIRA",
         "paciente_endereco_nmpais": "BRASIL",
         "paciente_endereco_uf": "AC",
         "paciente_endereco_cep": "nan",
         "paciente_nacionalidade_enumnacionalidade": "B",
         "estabelecimento_valor": 2000865,
         "estabelecimento_razaosocial": "SECRETARIA DE ESTADO DE SAUDE",
         "estalecimento_nofantasia": "HOSPITAL JOAO CANCIO FERNANDES",
         "estabelecimento_municipio_codigo": 120050,
         "estabelecimento_municipio_nome": "SENA MADUREIRA",
         "estabelecimento_uf": "AC",
         "vacina_grupoatendimento_codigo": 701,
         "vacina_grupoatendimento_nome": "Povos indígenas em terras indígenas",
         "vacina_categoria_codigo": 7,
         "vacina_categoria_nome": "Povos Indígenas",
         "vacina_lote": "202010040",
         "vacina_fabricante_nome": "SINOVAC/BUTANTAN",
         "vacina_fabricante_referencia": "Organization/61189445000156",
         "vacina_dataaplicacao": "2021-01-19",
         "vacina_descricao_dose": "1ª Dose",
         "vacina_codigo": 86,
         "vacina_nome": "COVID-19 SINOVAC/BUTANTAN - CORONAVAC",
         "sistema_origem": "Novo PNI",
         "data_importacao_rnds": "2021-01-25T15:00:50.000Z",
         "id_sistema_origem": 16341,
         "data": "2021-01-19",
         "_deepnote_index_column": 228141
        },
        {
         "document_id": "364b4258-ffae-4bf6-8124-22f55892676d-i0b0",
         "paciente_id": "1b75ec611b635a27ef693e4a5d3383fe4c83833986deda855ad95857787bfe0b",
         "paciente_idade": 55,
         "paciente_datanascimento": "1965-01-29",
         "paciente_enumsexobiologico": "M",
         "paciente_racacor_codigo": 5,
         "paciente_racacor_valor": "INDIGENA",
         "paciente_endereco_coibgemunicipio": 120020,
         "paciente_endereco_copais": 10,
         "paciente_endereco_nmmunicipio": "CRUZEIRO DO SUL",
         "paciente_endereco_nmpais": "BRASIL",
         "paciente_endereco_uf": "AC",
         "paciente_endereco_cep": 69980,
         "paciente_nacionalidade_enumnacionalidade": "B",
         "estabelecimento_valor": 6159087,
         "estabelecimento_razaosocial": "PREFEITURA MUNICIPAL DE CRUZEIRO DO SUL",
         "estalecimento_nofantasia": "SECRETARIA MUNICIPAL DE SAUDE DE CRUZEIRO DO SUL",
         "estabelecimento_municipio_codigo": 120020,
         "estabelecimento_municipio_nome": "CRUZEIRO DO SUL",
         "estabelecimento_uf": "AC",
         "vacina_grupoatendimento_codigo": 701,
         "vacina_grupoatendimento_nome": "Povos indígenas em terras indígenas",
         "vacina_categoria_codigo": 7,
         "vacina_categoria_nome": "Povos Indígenas",
         "vacina_lote": "202010040",
         "vacina_fabricante_nome": "SINOVAC/BUTANTAN",
         "vacina_fabricante_referencia": "Organization/61189445000156",
         "vacina_dataaplicacao": "2021-01-19",
         "vacina_descricao_dose": "1ª Dose",
         "vacina_codigo": 86,
         "vacina_nome": "COVID-19 SINOVAC/BUTANTAN - CORONAVAC",
         "sistema_origem": "Novo PNI",
         "data_importacao_rnds": "2021-02-22T12:43:59.000Z",
         "id_sistema_origem": 16341,
         "data": "2021-01-19",
         "_deepnote_index_column": 759948
        }
       ],
       "rows_bottom": null
      },
      "text/plain": "                                      document_id  \\\n221609  dbf9fbb1-cd29-47b1-ae0b-bf2c897313f2-i0b0   \n228141  20f22fa8-0a27-44ed-97a6-8a71bfeed037-i0b0   \n759948  364b4258-ffae-4bf6-8124-22f55892676d-i0b0   \n\n                                              paciente_id  paciente_idade  \\\n221609  62911c367773a117c42798edf2c795787a678f28d3295d...              48   \n228141  d93a4fdae486f52a24b6363542cb1433d7041fba18d846...              49   \n759948  1b75ec611b635a27ef693e4a5d3383fe4c83833986deda...              55   \n\n       paciente_datanascimento paciente_enumsexobiologico  \\\n221609              1972-08-26                          M   \n228141              1971-08-05                          F   \n759948              1965-01-29                          M   \n\n        paciente_racacor_codigo paciente_racacor_valor  \\\n221609                       99         SEM INFORMACAO   \n228141                        5               INDIGENA   \n759948                        5               INDIGENA   \n\n        paciente_endereco_coibgemunicipio  paciente_endereco_copais  \\\n221609                           120035.0                      10.0   \n228141                           120050.0                      10.0   \n759948                           120020.0                      10.0   \n\n       paciente_endereco_nmmunicipio  ... vacina_fabricante_nome  \\\n221609          MARECHAL THAUMATURGO  ...       SINOVAC/BUTANTAN   \n228141                SENA MADUREIRA  ...       SINOVAC/BUTANTAN   \n759948               CRUZEIRO DO SUL  ...       SINOVAC/BUTANTAN   \n\n       vacina_fabricante_referencia  vacina_dataaplicacao  \\\n221609  Organization/61189445000156            2021-01-18   \n228141  Organization/61189445000156            2021-01-19   \n759948  Organization/61189445000156            2021-01-19   \n\n       vacina_descricao_dose  vacina_codigo  \\\n221609               1ª Dose             86   \n228141               1ª Dose             86   \n759948               1ª Dose             86   \n\n                                  vacina_nome sistema_origem  \\\n221609  COVID-19 SINOVAC/BUTANTAN - CORONAVAC       Novo PNI   \n228141  COVID-19 SINOVAC/BUTANTAN - CORONAVAC       Novo PNI   \n759948  COVID-19 SINOVAC/BUTANTAN - CORONAVAC       Novo PNI   \n\n            data_importacao_rnds id_sistema_origem        data  \n221609  2021-02-19T21:41:05.000Z             16341  2021-01-18  \n228141  2021-01-25T15:00:50.000Z             16341  2021-01-19  \n759948  2021-02-22T12:43:59.000Z             16341  2021-01-19  \n\n[3 rows x 35 columns]",
      "text/html": "<div>\n<style scoped>\n    .dataframe tbody tr th:only-of-type {\n        vertical-align: middle;\n    }\n\n    .dataframe tbody tr th {\n        vertical-align: top;\n    }\n\n    .dataframe thead th {\n        text-align: right;\n    }\n</style>\n<table border=\"1\" class=\"dataframe\">\n  <thead>\n    <tr style=\"text-align: right;\">\n      <th></th>\n      <th>document_id</th>\n      <th>paciente_id</th>\n      <th>paciente_idade</th>\n      <th>paciente_datanascimento</th>\n      <th>paciente_enumsexobiologico</th>\n      <th>paciente_racacor_codigo</th>\n      <th>paciente_racacor_valor</th>\n      <th>paciente_endereco_coibgemunicipio</th>\n      <th>paciente_endereco_copais</th>\n      <th>paciente_endereco_nmmunicipio</th>\n      <th>...</th>\n      <th>vacina_fabricante_nome</th>\n      <th>vacina_fabricante_referencia</th>\n      <th>vacina_dataaplicacao</th>\n      <th>vacina_descricao_dose</th>\n      <th>vacina_codigo</th>\n      <th>vacina_nome</th>\n      <th>sistema_origem</th>\n      <th>data_importacao_rnds</th>\n      <th>id_sistema_origem</th>\n      <th>data</th>\n    </tr>\n  </thead>\n  <tbody>\n    <tr>\n      <th>221609</th>\n      <td>dbf9fbb1-cd29-47b1-ae0b-bf2c897313f2-i0b0</td>\n      <td>62911c367773a117c42798edf2c795787a678f28d3295d...</td>\n      <td>48</td>\n      <td>1972-08-26</td>\n      <td>M</td>\n      <td>99</td>\n      <td>SEM INFORMACAO</td>\n      <td>120035.0</td>\n      <td>10.0</td>\n      <td>MARECHAL THAUMATURGO</td>\n      <td>...</td>\n      <td>SINOVAC/BUTANTAN</td>\n      <td>Organization/61189445000156</td>\n      <td>2021-01-18</td>\n      <td>1ª Dose</td>\n      <td>86</td>\n      <td>COVID-19 SINOVAC/BUTANTAN - CORONAVAC</td>\n      <td>Novo PNI</td>\n      <td>2021-02-19T21:41:05.000Z</td>\n      <td>16341</td>\n      <td>2021-01-18</td>\n    </tr>\n    <tr>\n      <th>228141</th>\n      <td>20f22fa8-0a27-44ed-97a6-8a71bfeed037-i0b0</td>\n      <td>d93a4fdae486f52a24b6363542cb1433d7041fba18d846...</td>\n      <td>49</td>\n      <td>1971-08-05</td>\n      <td>F</td>\n      <td>5</td>\n      <td>INDIGENA</td>\n      <td>120050.0</td>\n      <td>10.0</td>\n      <td>SENA MADUREIRA</td>\n      <td>...</td>\n      <td>SINOVAC/BUTANTAN</td>\n      <td>Organization/61189445000156</td>\n      <td>2021-01-19</td>\n      <td>1ª Dose</td>\n      <td>86</td>\n      <td>COVID-19 SINOVAC/BUTANTAN - CORONAVAC</td>\n      <td>Novo PNI</td>\n      <td>2021-01-25T15:00:50.000Z</td>\n      <td>16341</td>\n      <td>2021-01-19</td>\n    </tr>\n    <tr>\n      <th>759948</th>\n      <td>364b4258-ffae-4bf6-8124-22f55892676d-i0b0</td>\n      <td>1b75ec611b635a27ef693e4a5d3383fe4c83833986deda...</td>\n      <td>55</td>\n      <td>1965-01-29</td>\n      <td>M</td>\n      <td>5</td>\n      <td>INDIGENA</td>\n      <td>120020.0</td>\n      <td>10.0</td>\n      <td>CRUZEIRO DO SUL</td>\n      <td>...</td>\n      <td>SINOVAC/BUTANTAN</td>\n      <td>Organization/61189445000156</td>\n      <td>2021-01-19</td>\n      <td>1ª Dose</td>\n      <td>86</td>\n      <td>COVID-19 SINOVAC/BUTANTAN - CORONAVAC</td>\n      <td>Novo PNI</td>\n      <td>2021-02-22T12:43:59.000Z</td>\n      <td>16341</td>\n      <td>2021-01-19</td>\n    </tr>\n  </tbody>\n</table>\n<p>3 rows × 35 columns</p>\n</div>"
     },
     "metadata": {}
    }
   ],
   "execution_count": null
  },
  {
   "cell_type": "code",
   "metadata": {
    "tags": [],
    "cell_id": "00025-ed9a2594-ddac-47b7-b20a-d393274f7b14",
    "deepnote_to_be_reexecuted": false,
    "source_hash": "199246de",
    "execution_start": 1635686229543,
    "execution_millis": 633,
    "deepnote_cell_type": "code"
   },
   "source": "num_1dose = df.loc[(df['data']<dt.date(2021,4,16)) & (df['vacina_grupoatendimento_nome']==keys2[2]) & ((df['vacina_descricao_dose']==keys[0]) | (df['vacina_descricao_dose']==keys[6]))].shape[0]\nnum_2dose = df.loc[(df['data']<dt.date(2021,4,16)) & (df['vacina_grupoatendimento_nome']==keys2[2]) & ((df['vacina_descricao_dose']==keys[1]) | (df['vacina_descricao_dose']==keys[3]))].shape[0]\n\nprint(f\"{num_1dose} 1ª dose e {num_2dose} 2ª dose\")",
   "outputs": [
    {
     "name": "stdout",
     "text": "6929 1ª dose e 4358 2ª dose\n",
     "output_type": "stream"
    }
   ],
   "execution_count": null
  },
  {
   "cell_type": "markdown",
   "source": "<a style='text-decoration:none;line-height:16px;display:flex;color:#5B5B62;padding:10px;justify-content:end;' href='https://deepnote.com?utm_source=created-in-deepnote-cell&projectId=91d7b7fb-b21f-45ef-8321-3cb5e72ce8d0' target=\"_blank\">\n<img alt='Created in deepnote.com' style='display:inline;max-height:16px;margin:0px;margin-right:7.5px;' src='data:image/svg+xml;base64,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' > </img>\nCreated in <span style='font-weight:600;margin-left:4px;'>Deepnote</span></a>",
   "metadata": {
    "tags": [],
    "created_in_deepnote_cell": true,
    "deepnote_cell_type": "markdown"
   }
  }
 ],
 "nbformat": 4,
 "nbformat_minor": 2,
 "metadata": {
  "orig_nbformat": 2,
  "deepnote": {
   "is_reactive": false
  },
  "deepnote_notebook_id": "58d389e6-6cfb-4be2-ba44-8503d9ba18bb",
  "deepnote_execution_queue": []
 }
}